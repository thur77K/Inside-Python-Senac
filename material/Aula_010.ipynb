{
 "cells": [
  {
   "cell_type": "markdown",
   "id": "36069736",
   "metadata": {},
   "source": [
    "# Banco de Dados 2\n",
    "\n",
    "Preparação corra 🏃‍♂️‍➡️ os seguintes códigos:\n",
    "\n",
    "```python\n",
    "# Chamando bibliotecas - banco de dados\n",
    "import sqlite3 \n",
    "from contextlib import closing\n",
    "```"
   ]
  },
  {
   "cell_type": "code",
   "execution_count": null,
   "id": "5e257838",
   "metadata": {},
   "outputs": [],
   "source": []
  },
  {
   "cell_type": "markdown",
   "id": "cc4c0fee",
   "metadata": {},
   "source": [
    "```python\n",
    "# Criando um banco de dados (Create)\n",
    "conexão = sqlite3.connect(\"agenda.db\")\n",
    "cursor = conexão.cursor()\n",
    "cursor.execute(''' create table agenda(nome text,telefone text) ''')\n",
    "cursor.execute('''insert into agenda (nome, telefone) values(?,?)''', (\"Nilo\",\"7788-1432\"))\n",
    "conexão.commit()\n",
    "cursor.close()\n",
    "conexão.close\n",
    "```"
   ]
  },
  {
   "cell_type": "code",
   "execution_count": null,
   "id": "e70c9461",
   "metadata": {},
   "outputs": [],
   "source": []
  },
  {
   "cell_type": "markdown",
   "id": "51dff5f5",
   "metadata": {},
   "source": [
    "```python\n",
    "# Inserindo registros (Create)\n",
    "dados = [(\"João\",\"98901-0109\"),\n",
    "(\"André\",\"98902-8900\"),\n",
    "(\"Maria\",\"97891-3321\")]\n",
    "conexão = sqlite3.connect(\"agenda.db\")\n",
    "cursor = conexão.cursor()\n",
    "cursor.executemany(''' \n",
    "    insert into agenda(nome,telefone)\n",
    "    values(?,?)\n",
    " ''',dados)\n",
    "conexão.commit()\n",
    "cursor.close()\n",
    "conexão.close()\n",
    "```"
   ]
  },
  {
   "cell_type": "code",
   "execution_count": null,
   "id": "a122b782",
   "metadata": {},
   "outputs": [],
   "source": []
  },
  {
   "cell_type": "markdown",
   "id": "0ae455cf",
   "metadata": {},
   "source": [
    "```python\n",
    "# Pesquisando um banco de dados (Recover)\n",
    "from contextlib import closing \n",
    "with sqlite3.connect('agenda.db') as conexão:\n",
    "    with closing(conexão.cursor()) as cursor:\n",
    "        cursor.execute(\"select * from agenda\")\n",
    "        while True:\n",
    "            resultado = cursor.fetchone()\n",
    "            if resultado is None:\n",
    "                break\n",
    "            print(f'Nome: {resultado[0]} \\nTelefone: {resultado[1]}')\n",
    "```"
   ]
  },
  {
   "cell_type": "code",
   "execution_count": null,
   "id": "a70c1a2f",
   "metadata": {},
   "outputs": [],
   "source": []
  },
  {
   "cell_type": "markdown",
   "id": "789f36a3",
   "metadata": {},
   "source": [
    "## Consultando registros\n",
    "\n",
    "Até agora, não fomos além do que poderíamos ter feito com simples arquivos de texto. A facilidade de um sistema de banco de dados começa a aparecer quando precisamos procurar e alterar dados. Ao trabalharmos com arquivos, essas operações devem ser implementadas em nossos programas, mas, com o SQLite, podemos realizá - las usando comandos SQL. Primeiro, vamos utilizar uma variação do comando `select` para mostrar apenas alguns registros, implementando uma seleção de registros com base em uma pesquisa. Pesquisas em SQL são feitas com a cláusula `where` . Vejamos o comando SQL , que seleciona todos os registros da agenda, cujo o nome seja igual a \"Nilo\".\n",
    "\n",
    "```sql\n",
    "select * from agenda where nome = \"Nilo\"\n",
    "```\n",
    "\n",
    " Veja que apenas acrescentamos a cláusula `where` após o nome da tabela. O critério de seleção ou de pesquisa deve ser escrito como uma expressão, no caso `nome = \"Nilo\"`. O programa 4 mostra com essa modificação (em que o `=` em SQL seria equivalente ao `==` do Python).\n",
    "\n",
    "```python\n",
    "# Programa 4 - Consulta com filtro de seleção\n",
    "with sqlite3.connect(\"agenda.db\") as conexão:\n",
    "    with closing(conexão.cursor()) as cursor:\n",
    "        cursor.execute(\"select * from agenda where nome = 'Nilo'\")\n",
    "        while True:\n",
    "            resultado = cursor.fetchone()\n",
    "            if resultado is None:\n",
    "                break\n",
    "            print(f\"Nome: {resultado[0]}\\nTelefone: {resultado[1]}\")\n",
    "```"
   ]
  },
  {
   "cell_type": "code",
   "execution_count": null,
   "id": "a7c6a56d",
   "metadata": {},
   "outputs": [],
   "source": []
  },
  {
   "cell_type": "markdown",
   "id": "07c47c6d",
   "metadata": {},
   "source": [
    "Ao executarmos o Programa 4 devemos ter apenas um: resultado:\n",
    "\n",
    "```\n",
    "Nome: Nilo\n",
    "Telefone: 7788-1432\n",
    "```\n",
    "\n",
    "\n",
    "Veja que escrevemos 'Nilo' entre apóstrofos. Aqui, podemos usar um pouco do já sabemos sobre strings em Python e escrever:\n",
    "\n",
    "```sql\n",
    "cursor.execute('select * from agenda nome = \"Nilo\"')\n",
    "```\n",
    "\n",
    "Ou seja, poderíamos trocar as aspas por apóstrofos ou ainda usar aspas triplas:\n",
    "\n",
    "```sql\n",
    "cursor.execute(\"\"\" select * from agenda where nome = \"Nilo\" \"\"\")\n",
    "```\n",
    "\n",
    " No caso do nosso exemplo, o nome 'Nilo' é uma constante e não há problemas em escrevê-lo diretamente em nosso comando `select`. No entanto, caso o  nome a filtrar viesse de uma varável, ficaríamos tentados a escrever um programa, como:\n",
    " \n",
    " ```python\n",
    "nome = input(\"Nome a selecionar: \")\n",
    "with sqlite3.connect(\"agenda.db\") as conexão:\n",
    "    with closing(conexão.cursor()) as cursor:\n",
    "        cursor.execute(f'select * from agenda where nome = \"{nome}\"')\n",
    "        while True:\n",
    "            resultado = cursor.fetchone()\n",
    "            if resultado is None:\n",
    "                break\n",
    "            print(f\"Nome: {resultado[0]}\\nTelefone: {resultado[1]}\")\n",
    "```\n",
    "Execute o programa com vários valores: Nilo, João e Maria. Experimentamos também com um nome que não existe. A cláusula `where` funciona de forma parecida a um filtro. Imagine que o comando `select` cria uma lista e que a expressão lógica definida no where é avaliada para cada elemento. Quando o resultado dessa avaliação é verdadeiro, a linha é copiada para uma outra lista, a lista de resultados, retornada pela nossa consulta."
   ]
  },
  {
   "cell_type": "code",
   "execution_count": null,
   "id": "94cec88c",
   "metadata": {},
   "outputs": [],
   "source": []
  },
  {
   "cell_type": "markdown",
   "id": "6b9eab1c",
   "metadata": {},
   "source": [
    "Veja que o programa funciona relativamente muito bem, exceto quando nada encontramos e o programa termina sem dizer muita coisa. Nós vamos corrigir esse problema logo a seguir, mas execute o programa mais uma vez e digite a seguinte sequência como nome:\n",
    "\n",
    "```\n",
    "X\" or \"1\" = \"1\n",
    "```\n",
    "\n",
    "Resultado:\n",
    "\n",
    "```\n",
    "Nome: Nilo\n",
    "Telefone: 7788-1432\n",
    "\n",
    "Nome: João\n",
    "Telefone: 98901-0109\n",
    "\n",
    "Nome: André\n",
    "Telefone: 98902-8900\n",
    "\n",
    "Nome: Maria\n",
    "Telefone: 97891-3321\n",
    "\n",
    "```\n",
    "\n",
    "Surpreso com o resultado? Esse é o motivo de não utilizarmos variáveis em  nossos consultas. Esse tipo de vulnerabilidade é um exemplo de SQLInjection, um ataque bem conhecido. Isso acontece porque o comando SQL resultante é:\n",
    "\n",
    "```sql\n",
    "SELECT * FROM agenda WHERE nome = X\" or \"1\" = \"1\n",
    "```\n",
    "\n",
    "Para evitar esse tipo de ataque, sempre utilize parâmetros com valores variáveis.\n",
    "\n",
    "O `or` da linguagem SQL funciona de forma semelhante ao `or` do Python. Dessa forma, nossa entrada de dados foi modificada por um valor digitado no programa. Esse tipo de erro é muito grave e pode ficar muito tempo em nossos programas sem ser percebido. Isso acontece porque a consulta é uma string como outra qualquer, e o valor passado para o método `execute` é a string resultante. Dessa forma, o valor digitado pelo usuário pode introduzir elementos que nós não desejamos. Os operadores relacionais `and` e `not` funcionam exatamente como em Python, e você também pode usá-los em expressões SQL.\n",
    "\n",
    "Para não cairmos nesse tipo de armadilha, utilizaremos sempre parâmetros em nossa consultas:\n",
    "\n",
    "```python\n",
    "# Programa 5: Consulta utilizando parâmetros\n",
    "nome = input(\"Nome a selecionar: \")\n",
    "with sqlite3.connect(\"agenda.db\") as conexão:\n",
    "    with closing(conexão.cursor()) as cursor:\n",
    "        cursor.execute('SELECT * FROM agenda WHERE nome = ?',(nome,))\n",
    "        x = 0\n",
    "        while True:\n",
    "            resultado = cursor.fetchone()\n",
    "            if resultado is None:\n",
    "                if x == 0:\n",
    "                    print(\"Nada encontrado.\")\n",
    "                break\n",
    "            print(f\"Nome: {resultado[0]}\\nTelefone: {resultado[1]}\") \n",
    "            x +=1 \n",
    "```\n"
   ]
  },
  {
   "cell_type": "code",
   "execution_count": null,
   "id": "eb9d3c5c",
   "metadata": {},
   "outputs": [],
   "source": []
  },
  {
   "cell_type": "markdown",
   "id": "377fc463",
   "metadata": {},
   "source": [
    "Agora utilizamos um parâmetro como fizemos antes para inserir nossos registros. Um detalhe importante é que escrevemos (nome,), repare a vírgula após `nome`. Esse detalhe importante é que apresentamos, pois o segundo parâmetro do método `execute` é uma tupla, e, em Python, tuplas com apenas um elemento são escritas com uma vírgula após o primeiro valor. Veja também que utilizamos a variável `x` para contar quantos resultados obtivemos. Como o método `fetchone` retorna `None` quando todos registros foram recebidos, verificamos se `x == 0`. Isso acontece, pois valores diferentes de 0 no Python são conhecidos como verdadeiros e `None`,0,\"\",{},[] como falsos.\n",
    "\n",
    "***Exercício 3*** - Escreva um programa que realize consultas do banco de dados preços.db, criado no Exercício 1. O programa deve perguntar o nome do produto e listar seu preço.\n",
    "\n",
    "*Obs.: Exercício 1 - Faça um programa que crie o banco de dados preços.db com a tabela preços para armazenar uma lista de preços de venda de produtos. A tabela deve conter o nome do produto e seu respectivo preço. O programa também deve inserir alguns dados para teste.*"
   ]
  },
  {
   "cell_type": "code",
   "execution_count": null,
   "id": "c3a69ac1",
   "metadata": {},
   "outputs": [],
   "source": []
  },
  {
   "cell_type": "markdown",
   "id": "ad3e7974",
   "metadata": {},
   "source": [
    "***Exercício 4*** - Modifique o programa do ***Exercício 3*** de forma a perguntar dois valores e listar todos os produtos com preços entre esses dois valores."
   ]
  },
  {
   "cell_type": "code",
   "execution_count": null,
   "id": "0ba21ac7",
   "metadata": {},
   "outputs": [],
   "source": []
  },
  {
   "cell_type": "markdown",
   "id": "391a3903",
   "metadata": {},
   "source": [
    "## Atualizando registros\n",
    "\n",
    "Já sabemos como criar tabelas, inserir registros e fazer consultas simples. Vamos começar a usar o comando `UPDATE` para alterar nossos registros. Por exemplo, vamos alterar o registro com telefone de \"Nilo\" para \"12345-6789\":\n",
    "\n",
    "```sql\n",
    "UPDATE agenda SET telefone = \"12345-6789\" WHERE nome = 'Nilo'\n",
    "```\n",
    "\n",
    "A cláusula ``WHERE`` funciona como no comando ```SELECT```, ou seja, ela avalia uma expressão lógica que, quando verdadeira, inclui o registro na lista de registros a modificar. A segunda parte do comando ```UPDATE``` é cláusula ```SET```. Essa cláusula é usada para indicar o que fazer nos registros selecionados pela expressão do ```WHERE```. No exemplo, ```SET telefone = \"12345-6789\"``` muda o conteúdo do campo ```telefone``` para ```12345-6789```. O comando inteiro poderia ser lido como: atualize os registros da tabela agenda, alterando o telefone para \"12345-6789\" em todos os registros em que o campo ```nome``` é igual á \"Nilo\". Vejamos o programa:\n",
    "\n",
    "```python\n",
    "with sqlite3.connect(\"agenda.db\") as conexão:\n",
    "    with closing(conexão.cursor()) as cursor:\n",
    "        cursor.execute(\"\"\" UPDATE agenda\n",
    "                             SET telefone = '12345-6789'\n",
    "                             WHERE nome = 'Nilo' \"\"\")\n",
    "    conexão.commit()\n",
    "# Verificar mudança de telefone no Exercício 5 acima ☝️\n",
    "```"
   ]
  },
  {
   "cell_type": "code",
   "execution_count": null,
   "id": "efc5e0b4",
   "metadata": {},
   "outputs": [],
   "source": []
  },
  {
   "cell_type": "code",
   "execution_count": null,
   "id": "180fa616",
   "metadata": {},
   "outputs": [],
   "source": []
  },
  {
   "cell_type": "markdown",
   "id": "e13ac0a2",
   "metadata": {},
   "source": [
    "Nesse exemplo utilizamos constantes, logo não precisamos usar parâmetros. As mesmas regras que aprendemos para o comando ```SELECT``` se aplicam ao comando ```UPDATE```. Se os valores não forem constantes, você tem de utilizar parâmetros.\n",
    "\n",
    "O comando ```UPDATE``` pode alterar mais de um registro de uma só vez. Faça uma cópia do arquivo ```agenda.db``` e experimente modificar o programa anterior, retirando a cláusula ```WHERE```:\n",
    "\n",
    "```sql\n",
    "UPDATE agenda SET telefone = \"12345-6789\"\n",
    "```\n",
    "\n",
    "Você verá que todos os registros foram modificados:\n",
    "```\n",
    "Nome: Nilo\n",
    "Telefone: 12345-6789\n",
    "\n",
    "Nome: João\n",
    "Telefone: 12345-6789\n",
    "\n",
    "Nome: André\n",
    "Telefone: 12345-6789\n",
    "\n",
    "Nome: Maria\n",
    "Telefone: 12345-6789\n",
    "```\n",
    "\n",
    "Sem a cláusula ```WHERE``` , todos os registros serão alterados. Vamos utilizar a propriedade ```rowcount``` de nosso cursor para saber quantos registros foram alterados por nosso ```UPDATE```. Veja o programa com essas alterações:\n",
    "\n",
    "```python\n",
    "# Programa 6 Exemplo de UPDATE e com rowcount\n",
    "with sqlite3.connect(\"agenda.db\") as coxeção:\n",
    "    with closing(conexão.cursor()) as cursor:\n",
    "        cursor.execute(\"\"\"\n",
    "UPDATE agenda\n",
    "SET telefone = '12345-6789'\n",
    "\"\"\")\n",
    "        print(f\"Registros alterados: {cursor.rowcount}\")\n",
    "```\n"
   ]
  },
  {
   "cell_type": "code",
   "execution_count": null,
   "id": "2659e484",
   "metadata": {},
   "outputs": [],
   "source": []
  },
  {
   "cell_type": "code",
   "execution_count": null,
   "id": "2ccec109",
   "metadata": {},
   "outputs": [],
   "source": []
  },
  {
   "cell_type": "markdown",
   "id": "6c4cf8ca",
   "metadata": {},
   "source": [
    "Não se esqueça de que, após modificar o banco de dados, precisamos chamar o método ```commit```, como fizemos ao inserir os registros. Caso nos esqueçamos, as alterações serão perdidas.\n",
    "\n",
    "A propriedade ```rowcount``` é muito interessante para confirmarmos o resultado de comandos de atualização, como ```UPDATE```. Essa propriedade não funciona com ```SELECT```, retornando sempre -1. Por isso, no Programa 5, contamos os registros retornados por nosso ```SELECT``` em vez de usarmos ```rowcount```. No caso de ```UPDATE```, poderíamos fazer uma verificação de quantos registros seriam alterados antes de chamarmos o ```commit``` , como:\n",
    "\n",
    "```python\n",
    "with sqlite3.connect(\"agenda.db\") as conexão:\n",
    "    with closing(conexão.cursor()) as cursor:\n",
    "        cursor.execute(\"\"\"\n",
    "UPDATE agenda\n",
    "SET telefone = '12345-6789'\n",
    "\"\"\")\n",
    "        print(f\"Registros alterados: {cursor.rowcount}\")\n",
    "        if cursor.rowcount == 1:\n",
    "            conexão.commit()\n",
    "            print(\"Alterações gravadas\")\n",
    "        else:\n",
    "            conexão.rollback()\n",
    "            print(\"Alterações abortadas\")\n",
    "````"
   ]
  },
  {
   "cell_type": "code",
   "execution_count": null,
   "id": "426aa733",
   "metadata": {},
   "outputs": [],
   "source": []
  },
  {
   "cell_type": "code",
   "execution_count": null,
   "id": "68a17f73",
   "metadata": {},
   "outputs": [],
   "source": []
  },
  {
   "cell_type": "markdown",
   "id": "20d52b07",
   "metadata": {},
   "source": [
    "***Exercício 5*** - Escreva um programa que aumente o preço de todos os produtos do banco de preços.db em 10%."
   ]
  },
  {
   "cell_type": "code",
   "execution_count": null,
   "id": "7cebc96d",
   "metadata": {},
   "outputs": [],
   "source": []
  },
  {
   "cell_type": "markdown",
   "id": "0c66eb6f",
   "metadata": {},
   "source": [
    "***Exercício 6***  - Escreva um programa que pergunte o nome do produto e um novo preço. Usando o banco preços.db, atualize o preço desse produto no banco de dados."
   ]
  },
  {
   "cell_type": "code",
   "execution_count": null,
   "id": "872981f4",
   "metadata": {},
   "outputs": [],
   "source": []
  },
  {
   "cell_type": "markdown",
   "id": "e6b2d8f6",
   "metadata": {},
   "source": [
    "## Apagando registros\n",
    "\n",
    "Além de inserir, consultar e alterar registros, podemos também apagá-los. O comando ```DELETE``` apaga registros com base em um critério de seleção, especificado na cláusula ```WHERE``` que já conhecemos. Faça outra cópia do arquivo ```agenda.db```. Copie o antigo banco de dados, com os registros antes de executarmos o Programa 6.\n",
    "\n",
    "A sintaxe do comando ```DELETE``` é:\n",
    "\n",
    "```sql\n",
    "DELETE FROM agenda WHERE nome = 'Maria'\n",
    "```\n",
    "\n",
    "Ou seja, apague da tabela ```agenda``` todos os registros com nome igual a ```''Maria''``` :\n",
    "\n",
    "```python\n",
    "with sqlite3.connect(\"agenda.db\") as conexão:\n",
    "    with closing(conexão.cursor()) as cursor:\n",
    "        cursor.execute(\"\"\"\n",
    "DELETE FROM agenda WHERE nome = 'Maria'\n",
    "\"\"\")\n",
    "        print(f\"Registros apagados: {cursor.rowcount}\")\n",
    "        if cursor.rowcount == 1:\n",
    "            conexão.commit()\n",
    "            print(\"Alerações gravadas\")\n",
    "        else:\n",
    "            conexão.roolback()\n",
    "            print(\"Alterações abortadas\")\n",
    "```"
   ]
  },
  {
   "cell_type": "markdown",
   "id": "1ffea3a7",
   "metadata": {},
   "source": [
    "Utilizamos o método ```rowcount``` para ter certeza de que estávamos apagando apenas um registro. Assim como no comando ```INSERT``` e ```UPDATE```, você precisa chamar ```commit``` para gravar as alterações ou ```roolback``` caso contrário."
   ]
  },
  {
   "cell_type": "code",
   "execution_count": null,
   "id": "64bdb054",
   "metadata": {},
   "outputs": [],
   "source": []
  },
  {
   "cell_type": "code",
   "execution_count": null,
   "id": "f3c9118f",
   "metadata": {},
   "outputs": [],
   "source": []
  }
 ],
 "metadata": {
  "kernelspec": {
   "display_name": "Python 3 (ipykernel)",
   "language": "python",
   "name": "python3"
  },
  "language_info": {
   "codemirror_mode": {
    "name": "ipython",
    "version": 3
   },
   "file_extension": ".py",
   "mimetype": "text/x-python",
   "name": "python",
   "nbconvert_exporter": "python",
   "pygments_lexer": "ipython3",
   "version": "3.11.6"
  }
 },
 "nbformat": 4,
 "nbformat_minor": 5
}
