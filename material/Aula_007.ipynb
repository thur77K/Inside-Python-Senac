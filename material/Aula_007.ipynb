{
 "cells": [
  {
   "cell_type": "markdown",
   "id": "3e1c1920",
   "metadata": {},
   "source": [
    "# TUPLA\n",
    "\n",
    "![](https://as1.ftcdn.net/v2/jpg/06/57/06/64/1000_F_657066459_upfIrg2FV3mGZbZSpeGCdoevcYeut4XV.jpg)\n",
    "\n",
    "Tuplas podem ser vistas como listas em Python, com grande diferença de serem ***imutáveis***. Tuplas são ideais para representar listas de valores constantes e para realizar operações de empacotamento e desempacotamento de valores. Primeiro, vejamos como criar uma tupla.\n",
    "\n",
    "Tuplas são criadas de forma semelhante às listas, mas utilizamos parênteses em vez de colchetes, Por exemplo:\n",
    "\n",
    "```python\n",
    "tupla = ('a', 'b', 'c')\n",
    "print(f'tupla = {tupla}')\n",
    "```"
   ]
  },
  {
   "cell_type": "code",
   "execution_count": null,
   "id": "ca00eba3",
   "metadata": {},
   "outputs": [],
   "source": []
  },
  {
   "cell_type": "markdown",
   "id": "1247f281",
   "metadata": {},
   "source": [
    "Os parênteses são opcionais porém sua utilização aumenta a clareza da expressão em si, uma vez que visualizar a vírgula pode não ser tão fácil. Você poderia criar a mesma tupla usando a sintaxe seguinte:\n",
    "\n",
    "```python\n",
    "tupla = 'a', 'b', 'c'\n",
    "print(f'tupla = {tupla}')\n",
    "```"
   ]
  },
  {
   "cell_type": "code",
   "execution_count": null,
   "id": "baa21880",
   "metadata": {},
   "outputs": [],
   "source": []
  },
  {
   "cell_type": "markdown",
   "id": "05484d60",
   "metadata": {},
   "source": [
    "Tuplas suportam a maior parte das operações de listas, como fatiamento e indexação:\n",
    "\n",
    "```python\n",
    "print(tupla[0])\n",
    "print(tupla[2])\n",
    "print(tupla[1:])\n",
    "print(tupla *2)\n",
    "print(len(tupla))\n",
    "```"
   ]
  },
  {
   "cell_type": "code",
   "execution_count": null,
   "id": "808031a9",
   "metadata": {},
   "outputs": [],
   "source": []
  },
  {
   "cell_type": "markdown",
   "id": "144ec624",
   "metadata": {},
   "source": [
    "🚨️ ***Tuplas não podem ter seus elementos alterados***. Veja o que acontece se tentarmos alterar uma tupla:\n",
    "\n",
    "```python\n",
    "tupla[0] = 'A'\n",
    "```\n",
    "Apresenta um erro : TypeError: **'tuple'** object does not support item assignment."
   ]
  },
  {
   "cell_type": "markdown",
   "id": "8e6dc712",
   "metadata": {},
   "source": [
    "Várias funções utilizam ou geram tuplas em Python. Tuplas podem ser utilizadas com ``for`` :\n",
    "\n",
    "```python\n",
    "for elemento in tupla:\n",
    "    print(elemento)\n",
    "```"
   ]
  },
  {
   "cell_type": "code",
   "execution_count": null,
   "id": "f5c2e829",
   "metadata": {},
   "outputs": [],
   "source": []
  },
  {
   "cell_type": "markdown",
   "id": "933f81d0",
   "metadata": {},
   "source": [
    "Vejamos outro exemplo de tupla:\n",
    "\n",
    "```python\n",
    "tupla = 100, 200, 300\n",
    "print(f'tupla = {tupla}')\n",
    "```"
   ]
  },
  {
   "cell_type": "code",
   "execution_count": null,
   "id": "c76a9e4b",
   "metadata": {},
   "outputs": [],
   "source": []
  },
  {
   "cell_type": "markdown",
   "id": "a301a08a",
   "metadata": {},
   "source": [
    "No caso, 100, 200, 300 foram convertidos em uma tupla com três elementos. Esse tipo de operação chamamos de empacotamento.\n",
    "\n",
    "Tuplas também podem ser utilizadas para desempacotar valores, por exemplo:\n",
    "\n",
    "```python\n",
    "a , b = 10 , 20\n",
    "print(f'a = {a}')\n",
    "print(f'b = {b}')\n",
    "```"
   ]
  },
  {
   "cell_type": "code",
   "execution_count": null,
   "id": "4db0694a",
   "metadata": {},
   "outputs": [],
   "source": []
  },
  {
   "cell_type": "markdown",
   "id": "1cebd9a6",
   "metadata": {},
   "source": [
    "Em que o primeiro valor, 10, foi atribuído à primeira variável ``a``  e 20, à segunda, ``b`` . Esse tipo de operação é chamado de empacotamento.\n",
    "\n",
    "Também podemos trocar rapidamente os valores de variáveis com construções do tipo:\n",
    "\n",
    "```python\n",
    "a, b = 10, 20\n",
    "print(f'a = {a}')\n",
    "print(f'b = {b}')\n",
    "print('Veja!\\nComo fica a troca:')\n",
    "a, b = b, a\n",
    "print(f'a = {a}')\n",
    "print(f'b = {b}')\n",
    "```"
   ]
  },
  {
   "cell_type": "code",
   "execution_count": null,
   "id": "803280c6",
   "metadata": {},
   "outputs": [],
   "source": []
  },
  {
   "cell_type": "markdown",
   "id": "da02bd81",
   "metadata": {},
   "source": [
    "Em que a tupla da esquerda foi usada para atribuir os valores à direita. Nesse caso, as atribuições: a = b e b = a foram realizadas imediatamente, sem precisar utilizar uma variável intermediária para a troca.\n",
    "\n",
    "A sintaxe do Python é um tanto especial quando precisamos criar tuplas com apenas um elemento. Como os valores são escritos entre parênteses, quando um valor estiver presente, devemos acrescentar uma vírgula para indicar que o valor é uma tupla com apenas um elemento. Veja o que acontece, usando e não usando a vírgula:\n",
    "\n",
    "```python\n",
    "t1 = (1) # Não cria a tupla, mas um inteiro\n",
    "print(f'Não cria a tupla, mas um inteiro = {t1}')\n",
    "t2 = (1,) # Cria uma tupla com um elemento 1\n",
    "print(f'Cria um uma tupla com um elemento = {t2}')\n",
    "t3 = 1, # Os parênteses são opcionais\n",
    "print(f'Os parênteses são opcionais = {t3}')\n",
    "```"
   ]
  },
  {
   "cell_type": "code",
   "execution_count": null,
   "id": "c997c6d1",
   "metadata": {},
   "outputs": [],
   "source": []
  },
  {
   "cell_type": "markdown",
   "id": "cc934d1a",
   "metadata": {},
   "source": [
    "Veja que em ``t1`` não utilizamos a vírgula, e o código foi interpretado como um número inteiro entre parênteses. Já em ``t2``, utilizamos á vírgula, e nossa tupla foi corretamente construída. Em ``t3``, criamos outra tupla, mas nesse caso nem precisamos usar parênteses.\n",
    "\n",
    "Podemos também criar tuplas vazias, escrevendo apenas os parênteses:\n",
    "```python\n",
    "t4 = ()\n",
    "print(f'Lista vazia: t4 = {t4}')\n",
    "print(f\"O tamanho da lista t4 = {len(t4)}\")\n",
    "```"
   ]
  },
  {
   "cell_type": "code",
   "execution_count": null,
   "id": "49a122f9",
   "metadata": {},
   "outputs": [],
   "source": [
    "\n"
   ]
  },
  {
   "cell_type": "markdown",
   "id": "e4636cc3",
   "metadata": {},
   "source": [
    "Tuplas também podem ser escritas a partir de listas, utilizando-se a função ``tuple`` :\n",
    "\n",
    "```python\n",
    "L = [1,2,3]\n",
    "T = tuple(L)\n",
    "print(f'Lista L {L} transformada em tupla {T}')\n",
    "```"
   ]
  },
  {
   "cell_type": "code",
   "execution_count": null,
   "id": "c86fe9d9",
   "metadata": {},
   "outputs": [],
   "source": []
  },
  {
   "cell_type": "markdown",
   "id": "c43f4f8a",
   "metadata": {},
   "source": [
    "Embora não possamos alterar uma tupla depois de sua criação, podemos concatená-las, gerando novas tuplas:\n",
    "\n",
    "```python\n",
    "t1 = (1,2,3)\n",
    "t2 = (4,5,6)\n",
    "print(f'Concatenação das duas tuplas t1 + t2 = {t1+t2}')\n",
    "```"
   ]
  },
  {
   "cell_type": "code",
   "execution_count": null,
   "id": "251dab38",
   "metadata": {},
   "outputs": [],
   "source": []
  },
  {
   "cell_type": "markdown",
   "id": "5131f7d4",
   "metadata": {},
   "source": [
    "🚨️ Observe que, se uma tupla contiver uma lista ou outro objeto que pode ser alterado, este continuará a funcionar normalmente. Veja o exemplo de uma tupla que contém uma lista:\n",
    "\n",
    "```python\n",
    "tupla = ('a', ['b', 'c', 'd'])\n",
    "print(f'tupla = {tupla}')\n",
    "print(f'Tamanho da tupla = {len(tupla)}')\n",
    "print(f'Imprimindo o elemento na posição 2: {tupla[1]}')\n",
    "tupla[1].append(\"e\")\n",
    "print(f'tupla = {tupla}')\n",
    "print(f'Apesar de acrescentar um dado à lista interna\\no tamanho continua inalterado.\\nTamanho da tupla = {len(tupla)}')\n",
    "```"
   ]
  },
  {
   "cell_type": "code",
   "execution_count": null,
   "id": "d0f179b4",
   "metadata": {},
   "outputs": [],
   "source": []
  },
  {
   "cell_type": "markdown",
   "id": "52e4ff48",
   "metadata": {},
   "source": [
    "Nesse caso, nada mudou na tupla em si, mas na lista que é seu segundo elemento. Ou seja, a tupla não foi alterada, mas a lista que ela continha sim.\n",
    "\n",
    "As operações de empacotamento e desempacotamento também funcionam com listas.\n",
    "\n",
    "```python\n",
    "print('Operações com tuplas:')\n",
    "a,b = 1,2\n",
    "print(f'a: {a}')\n",
    "print(f'b: {b}')\n",
    "print('As mesmas operações com listas:')\n",
    "b,c = [3,4]\n",
    "print(f'b: {b}')\n",
    "print(f'c: {c}')\n",
    "```"
   ]
  },
  {
   "cell_type": "code",
   "execution_count": null,
   "id": "d242628e",
   "metadata": {},
   "outputs": [],
   "source": []
  },
  {
   "cell_type": "markdown",
   "id": "382cfd22",
   "metadata": {},
   "source": [
    "Podemos usar o ``*`` para indicar vários valores a desempacotar.\n",
    "\n",
    "```python\n",
    "*a,b = [1,2,3,4,5]\n",
    "f\"\"\" Desempacotar os valores 1,2,3,4 em a\n",
    "e o último em b\n",
    "\"\"\"\n",
    "print(f'Valores de a: {a} e valores de b: {b} ')\n",
    "```"
   ]
  },
  {
   "cell_type": "code",
   "execution_count": null,
   "id": "2c6f904d",
   "metadata": {},
   "outputs": [],
   "source": []
  },
  {
   "cell_type": "markdown",
   "id": "c99cad4c",
   "metadata": {},
   "source": [
    "```python\n",
    "a,*b = [1,2,3,4,5]\n",
    "f\"\"\" Desempacotar os valor 1 em a\n",
    "e os últimos 2,3,4,5 em b\n",
    "\"\"\"\n",
    "print(f'Valores de a: {a} e valores de b: {b} ')\n",
    "```"
   ]
  },
  {
   "cell_type": "markdown",
   "id": "9add3a38",
   "metadata": {},
   "source": [
    " No caso de ``*a``, ``b``, dizemos: coloque o último valor de em ``b``e os restantes em ``a``. Em ``a``, ``*b``, dizemos: coloque o primeiro valor em ``a`` e os outros em ``b``."
   ]
  },
  {
   "cell_type": "code",
   "execution_count": null,
   "id": "d2742ca2",
   "metadata": {},
   "outputs": [],
   "source": []
  },
  {
   "cell_type": "markdown",
   "id": "9da3bcf0",
   "metadata": {},
   "source": [
    "## PARA SABER MAIS:\n",
    "\n",
    "# **[Acesse](https://www.youtube.com/watch?v=0LB3FSfjvao)**: <https://www.youtube.com/watch?v=0LB3FSfjvao>\n",
    "\n",
    "![](https://www.cursoemvideo.com/wp-content/uploads/2019/08/guana6.png \"Curso em Vídeo\")"
   ]
  },
  {
   "cell_type": "markdown",
   "id": "ad5151f2",
   "metadata": {},
   "source": [
    "# Dicionários\n",
    "\n",
    "![](https://media.istockphoto.com/id/1449171326/pt/foto/closeup-of-program-developer-writing-software-on-multiple-computer-screens-at-home-office.webp?s=2048x2048&w=is&k=20&c=u7-G3f44C2Y3f_fVqCdp4nqZ3URPTXFDo5t6mdJphGk=)\n",
    "\n",
    "Dicionários consistem em uma estrutura de dados similar às listas, mas com propriedades de acesso diferentes. Um dicionário é composto de um conjunto de chaves valores. O dicionário em si consiste em relacionar uma chave a um valor específico.\n",
    "\n",
    "Em Python, criamos dicionários utilizando chaves (``{ }``). Cada elemento do dicionário é uma chave e valor. Vejamos um exemplo em que os preços de mercadorias sejam como os da Tabela abaixo:\n",
    "\n",
    "\n",
    "|**Produto**|**Preço**|\n",
    "|:----:|:----:|\n",
    "|Alface|R\\$ 0,45|\n",
    "|Batata|R\\$ 1,20|\n",
    "|Tomate|R\\$ 2,30|\n",
    "|Feijão|R\\$ 1,50|\n",
    "\n",
    "\n",
    "Na tabela pode ser vista como um dicionário, em que a chave seria o produto; e seu valor, seu preço. Vejamos como criar esse dicionário em Python:\n",
    "\n",
    "```python\n",
    "tabela = { \"Alface\":0.45,\n",
    "\"Batata\": 1.20,\n",
    "\"Tomate\": 2.30,\n",
    "\"Feijão\": 1.50\n",
    "}\n",
    "print(f\"Tabela: {tabela}\")\n",
    "```"
   ]
  },
  {
   "cell_type": "code",
   "execution_count": null,
   "id": "6e20e55d",
   "metadata": {},
   "outputs": [],
   "source": []
  },
  {
   "cell_type": "markdown",
   "id": "1615e3c8",
   "metadata": {},
   "source": [
    "Um dicionário é acessado por suas chaves. Para obter o preço da alface, digite no interpretador, depois de ter criado a tabela, ``tabela[\"Alface\"]``, em que ``tabela`` é o nome da variável do tipo dicionário, e ``\"Alface\"`` é nossa chave. O valor retornado é mesmo que associamos na tabela, ou seja, 0,45.\n",
    "\n",
    "Diferentemente de listas, em que o índice é um número, dicionários utilizam suas chaves como índice. Quando atribuímos um valor a uma, duas coisas podem ocorrer:\n",
    "\n",
    ">1. Se a chave já existe: o valor associado é alterado para novo valor.\n",
    ">2. Se a chave não existe: será adicionada ao dicionário.\n",
    "\n",
    "🔎️ Observe:\n",
    "\n",
    "```python\n",
    "tabela = {\n",
    "\"Alface\": 0.45,\n",
    "\"Batata\": 1.20,\n",
    "\"Tomate\": 2.30,\n",
    "\"Feijão\": 1.50\n",
    "}\n",
    "print(tabela[\"Tomate\"]) # 1️⃣️\n",
    "print(tabela)\n",
    "tabela[\"Tomate\"] = 2.50 # 2️⃣️ \n",
    "print(tabela[\"Tomate\"])\n",
    "tabela[\"Cebola\"] = 1.20 # 3️⃣️\n",
    "print(tabela)\n",
    "```"
   ]
  },
  {
   "cell_type": "code",
   "execution_count": null,
   "id": "de81d734",
   "metadata": {},
   "outputs": [],
   "source": []
  },
  {
   "cell_type": "markdown",
   "id": "d6274fe4",
   "metadata": {},
   "source": [
    "Em 1️⃣️, acessamos o valor associado a chave ``\"Tomate\"`` . Em 2️⃣️, alteramos o valor associado à chave ``\"Tomate\"`` para um novo valor. Observe que o valor anterior foi perdido. Em 3️⃣️, criamos uma chave, ``\"Cebola\"``, que é adicionada ao dicionário.\n",
    "\n",
    "Quanto ao acesso aos dados, temos de verificar se uma chave existe, antes de acessá-la. Para verificar se uma chave pertence ao dicionário podemos usar o operador `ìn``:\n",
    "\n",
    "```python\n",
    "tabela = {\n",
    "\"Alface\": 0.45,\n",
    "\"Batata\": 1.20,\n",
    "\"Tomate\": 2.30,\n",
    "\"Feijão\": 1.50\n",
    "}\n",
    "print(\"Manga\" in tabela) # utilizando o operador in\n",
    "print(\"Batata\" in tabela)\n",
    "```"
   ]
  },
  {
   "cell_type": "code",
   "execution_count": null,
   "id": "5d0bc698",
   "metadata": {},
   "outputs": [],
   "source": []
  },
  {
   "cell_type": "markdown",
   "id": "17a9f9d8",
   "metadata": {},
   "source": [
    "Podemos também obter uma lista com as chaves do dicionário, ou mesmo uma lista dos valores associados:\n",
    "\n",
    "```python\n",
    "tabela = {\n",
    "\"Alface\": 0.45,\n",
    "\"Batata\": 1.20,\n",
    "\"Tomate\": 2.30,\n",
    "\"Feijão\": 1.50\n",
    "}\n",
    "print(tabela.keys()) # Imprimindo os as chaves.\n",
    "print(tabela.values()) # Imprimindo os valores.\n",
    "```"
   ]
  },
  {
   "cell_type": "code",
   "execution_count": null,
   "id": "eb40a5fd",
   "metadata": {},
   "outputs": [],
   "source": []
  },
  {
   "cell_type": "markdown",
   "id": "4fd9a839",
   "metadata": {},
   "source": [
    "Observe que os métodos ``keys()`` e ``values()`` retornam geradores. Você pode utilizá-los diretamente dentro de um ``for`` ou transformá-los em lista usando a função ``list``.\n",
    "\n",
    "Você pode estar se perguntando quando utilizar listas e quando utilizar dicionários. Tudo depende do que você deseja realizar. Se seus dados são facilmente acessados por sua chaves e quase nunca você precisa acessá-los de uma só vez: um dicionário é mais interessante. Além disso, você pode acessar os valores associados a uma chave rapidamente sem pesquisar. A implementação interna de dicionários também garante uma boa velocidade de acesso quando temos muitas chaves. Porém, um dicionário não organiza suas chaves. Se seus dados precisam preservar ordem de inserção ( como em filas ou pilhas, continue a usar listas), dicionários não serão opção."
   ]
  },
  {
   "cell_type": "markdown",
   "id": "884d3bbe",
   "metadata": {},
   "source": [
    "```python\n",
    "# Programa - Exemplo de dicionário com estoque e operações de venda\n",
    "# Programa - Exemplo de dicionário com estoque e operações de venda\n",
    "estoque = {\n",
    "\"tomate\": [1000, 2.30],\n",
    "\"alface\": [500, 0.45],\n",
    "\"batata\": [2001, 1.20],\n",
    "\"feijão\": [100, 1.50]\n",
    "}\n",
    "venda = [[\"tomate\", 5], [\"batata\", 10], [\"alface\", 5]]\n",
    "total = 0\n",
    "print(\"Vendas:\\n\")\n",
    "for operação in venda:\n",
    "    produto, quantidade = operação\n",
    "    preço = estoque[produto][1]\n",
    "    custo = preço * quantidade\n",
    "    print(f\"{produto:12s}: {quantidade:3d} x {preço:6.2f} = {custo:6.2f}\")\n",
    "    estoque[produto][0] -= quantidade\n",
    "    total += custo\n",
    "print(f\"Custo total: {total:22.2f}\\n\")\n",
    "print(\"Estoque:\\n\")\n",
    "for chave, dados in estoque.items():\n",
    "    print(f\"Descrição: {chave}\")\n",
    "    print(f\"Quantidade: {dados[0]}\")\n",
    "    print(f\"Preço: {dados[1]: 6.2f}\")\n",
    "```"
   ]
  },
  {
   "cell_type": "code",
   "execution_count": null,
   "id": "0d7275d8",
   "metadata": {},
   "outputs": [],
   "source": []
  },
  {
   "cell_type": "markdown",
   "id": "025519c9",
   "metadata": {},
   "source": [
    "***Exercício*** - Altere o programa acima de forma a solicitar ao usuário o produto e quantidade vendida. Verifique se o nome do produto digitado existe no dicionário, e só então efetue a baixa em estoque."
   ]
  },
  {
   "cell_type": "code",
   "execution_count": null,
   "id": "f127ec72",
   "metadata": {},
   "outputs": [],
   "source": []
  },
  {
   "cell_type": "markdown",
   "id": "e09533e7",
   "metadata": {},
   "source": [
    "## PARA SABER MAIS:\n",
    "\n",
    "# **[Acesse](https://youtu.be/ZWj8o692qGY?list=PLHz_AreHm4dksnH2jVTIVNviIMBVYyFnH)**: <https://youtu.be/ZWj8o692qGY?list=PLHz_AreHm4dksnH2jVTIVNviIMBVYyFnH>\n",
    "\n",
    "![](https://www.cursoemvideo.com/wp-content/uploads/2019/08/guana6.png \"Curso em Vídeo\")"
   ]
  }
 ],
 "metadata": {
  "kernelspec": {
   "display_name": "Python 3 (ipykernel)",
   "language": "python",
   "name": "python3"
  },
  "language_info": {
   "codemirror_mode": {
    "name": "ipython",
    "version": 3
   },
   "file_extension": ".py",
   "mimetype": "text/x-python",
   "name": "python",
   "nbconvert_exporter": "python",
   "pygments_lexer": "ipython3",
   "version": "3.9.16"
  }
 },
 "nbformat": 4,
 "nbformat_minor": 5
}
