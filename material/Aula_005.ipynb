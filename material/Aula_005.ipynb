{
 "cells": [
  {
   "cell_type": "markdown",
   "id": "28ae060f",
   "metadata": {},
   "source": [
    " # Listas 📜\n",
    "\n",
    " 📃 **Listas são um tipo de variável que permite o armazenamento de vários valores, acessados por um índice**. Uma lista pode conter zero ou mais elementos de um mesmo tipo ou de tipos diversos, podendo inclusive conter outras listas. O tamanho de uma lista é igual à quantidade de elementos que ela contém.\n",
    "Listas são flexíveis e podem crescer ou diminuir com o tempo.\n",
    "Vejamos como criar uma lista em Python:\n",
    "\n",
    "```python\n",
    " L = []\n",
    "```\n",
    "Essa linha cria uma lista chamada L com zero elemento, ou seja, uma lista vazia. Os colchetes ([ ]) após o símbolo de igualdade servem para indicar que L é uma lista. Vejamos agora como criar uma lista Z, com três elementos:\n",
    "\n",
    "```python\n",
    "Z = [15,8,9]\n",
    "```\n",
    "\n",
    "A lista Z foi criada com três elementos: 15, 8 e 9. Dizemos que o tamanho da lista Z é 3. Como o primeiro elemento tem índice 0, temos que o último elemento é Z[2]. Veja o resultado dos testes com Z:\n",
    "\n",
    "```python\n",
    "Z = [15,8,9]\n",
    "Z[0]\n",
    "15\n",
    "Z[1]\n",
    "8\n",
    "Z[2]\n",
    "9\n",
    "```\n",
    "Utizando o nome da lista e um índice, podemos mudar o conteúdo de elemento. Observe os testes abaixo:\n",
    "\n",
    "```python\n",
    "Z = [15,8,9]\n",
    "Z[0]\n",
    "15\n",
    "Z[0] = 7\n",
    "Z[0]\n",
    "7\n",
    "Z\n",
    "[7,8,9]\n",
    "```\n",
    "Quando criamos uma lista Z, o primeiro elemento era o número 15. Por isso, Z\\[0\\] era 15. Quando executamos Z\\[0\\] = 7, alteramos o conteúdo do primeiro elemento para 7. Isso pode ser verificado quando pedimos para exibir Z, agora com 7,8 e 9 como elementos."
   ]
  },
  {
   "cell_type": "code",
   "execution_count": null,
   "id": "2e214267",
   "metadata": {},
   "outputs": [],
   "source": []
  },
  {
   "cell_type": "code",
   "execution_count": null,
   "id": "27be02ce",
   "metadata": {},
   "outputs": [],
   "source": []
  },
  {
   "cell_type": "code",
   "execution_count": null,
   "id": "e4960c3f",
   "metadata": {},
   "outputs": [],
   "source": []
  },
  {
   "cell_type": "markdown",
   "id": "92d286c8",
   "metadata": {},
   "source": [
    "Vejamos um exemplo em que um aluno tem cinco notas e desejamos calcular a média aritmética dele:\n",
    "\n",
    "```python\n",
    "# Programa 1 - Cálculo da média\n",
    "notas = [6,7,5,8,9]\n",
    "soma = 0\n",
    "x = 0\n",
    "while x < 5:\n",
    "    soma += notas[x]\n",
    "    x += 1\n",
    "print(f\"Média: {soma / x: 5.2f}\")\n",
    "```\n",
    "Digite `Ctrl+Enter` ou $\\blacktriangleright$ **Run**"
   ]
  },
  {
   "cell_type": "code",
   "execution_count": null,
   "id": "d4048c71",
   "metadata": {},
   "outputs": [],
   "source": []
  },
  {
   "cell_type": "markdown",
   "id": "38a014a0",
   "metadata": {},
   "source": [
    "Vejamos uma modificação desse exemplo, mas, dessa vez, vamos ler as notas uma a uma:\n",
    "\n",
    "```python\n",
    "# Programa 2  - Cálculo das médias com notas digitadas\n",
    "notas = [0, 0, 0, 0, 0]\n",
    "soma = 0\n",
    "x = 0\n",
    "while x < 5:\n",
    "    notas[x] = float(input(f\"Nota {x}: \"))\n",
    "    soma += notas[x]\n",
    "    x += 1\n",
    "x = 0\n",
    "while x < 5:\n",
    "    print(f\"Nota {x}: {notas[x]: 6.2f}\")\n",
    "    x += 1\n",
    "print(f\"Média: {soma / x: 5.2f}\")\n",
    "```\n",
    "\n",
    "Digite `Ctrl+Enter` ou $\\blacktriangleright$ **Run**"
   ]
  },
  {
   "cell_type": "code",
   "execution_count": null,
   "id": "8bbe1984",
   "metadata": {
    "scrolled": true
   },
   "outputs": [],
   "source": []
  },
  {
   "cell_type": "markdown",
   "id": "e8cb7238",
   "metadata": {},
   "source": [
    "Exercício 1 - Modifique o Programa 2 para ler 7 notas em vez de 5.\n",
    "\n",
    "Digite `Ctrl+Enter` ou $\\blacktriangleright$ **Run**"
   ]
  },
  {
   "cell_type": "code",
   "execution_count": null,
   "id": "ed0ece1f",
   "metadata": {},
   "outputs": [],
   "source": []
  },
  {
   "cell_type": "markdown",
   "id": "142a0642",
   "metadata": {},
   "source": [
    "## Trabalhando com índices\n",
    "\n",
    "Vejamos um exemplo: um programa que lê cinco números, armazena-os em uma lista e depois solicita ao usuário que escolha um número a mostrar. O objetivo é, por exemplo, ler 15,12,5,7 e 9 e armazená-los na lista. Depois, se o usuário digitar 2, ele imprimirá o segundo número digitado, 3, o terceiro, e assim sucessivamente. Observe que o índice do primeiro número é 0, e não 1: essa pequena conversão será feita no programa:\n",
    "\n",
    "```python\n",
    "# Programa 3 - Apresentação de números\n",
    "números = [0,0,0,0,0]\n",
    "x = 0\n",
    "while x < 5:\n",
    "    números[x] = int(input(f\"Número {x + 1}: \"))\n",
    "    x += 1\n",
    "while True:\n",
    "    escolhido = int(input(\"Que posição você quer imprimir( 0 para sair): \"))\n",
    "    if escolhido == 0:\n",
    "        break\n",
    "    print(f\"Você escolheu o número: {números [escolhido -1]}\")\n",
    "```\n",
    "\n",
    "Digite `Ctrl+Enter` ou $\\blacktriangleright$ **Run**"
   ]
  },
  {
   "cell_type": "code",
   "execution_count": null,
   "id": "dfb77b6a",
   "metadata": {},
   "outputs": [],
   "source": []
  },
  {
   "cell_type": "markdown",
   "id": "45428a18",
   "metadata": {},
   "source": [
    "## Cópia e fatiamento de listas\n",
    "\n",
    "Embora listas em Python sejam um recurso muito poderoso, todo poder traz resposabilidades. Um dos efeitos colaterais de listas aparece quando tentamos fazer cópias. Vejamos um teste:\n",
    "\n",
    "```python\n",
    "L = [1,2,3,4,5]\n",
    "V = L\n",
    "L\n",
    "[1,2,3,4,5]\n",
    "V\n",
    "[1,2,3,4,5]\n",
    "V[0] = 6\n",
    "V\n",
    "[6,2,3,4,5]\n",
    "L[6,2,3,4,5]\n",
    "```"
   ]
  },
  {
   "cell_type": "code",
   "execution_count": null,
   "id": "cdc90f0a",
   "metadata": {},
   "outputs": [],
   "source": []
  },
  {
   "cell_type": "markdown",
   "id": "26e7e1e8",
   "metadata": {},
   "source": [
    "Veja que, ao moficarmos V, modificamos também o conteúdo de L. Isso porque uma lista em Python é um objeto, quando atribímos  um objeto a outro, estamos apenas copiando a mesma referência da lista, e não seus dados em si.Nesse caso V funciona como apelido de L, ou seja, V e L são a mesma lista.\n",
    "\n",
    "Para criar uma cópia independente de uma lista, utilizamos outra sintaxe. Vejamos o resultado das operações:\n",
    "\n",
    "```python\n",
    "L = [1,2,3,4,5]\n",
    "V = L[:]\n",
    "V[0] = 6\n",
    "L\n",
    "[1,2,3,4,5]\n",
    "V\n",
    "[6,2,3,4,5]\n",
    "```"
   ]
  },
  {
   "cell_type": "code",
   "execution_count": null,
   "id": "f78dff53",
   "metadata": {},
   "outputs": [],
   "source": []
  },
  {
   "cell_type": "markdown",
   "id": "0b08d6d1",
   "metadata": {},
   "source": [
    "Podemos fatiar uma lista. Vejamos alguns exemplos:\n",
    "\n",
    "```python\n",
    "L = [1,2,3,4,5]\n",
    "L[0:5]\n",
    "L[1,2,3,4,5]\n",
    "L[:5]\n",
    "L[1,2,3,4,5]\n",
    "L[:-1]\n",
    "[1,2,3,4]\n",
    "L[1:3]\n",
    "[2,3]\n",
    "```"
   ]
  },
  {
   "cell_type": "code",
   "execution_count": null,
   "id": "4f398aff",
   "metadata": {},
   "outputs": [],
   "source": []
  },
  {
   "cell_type": "markdown",
   "id": "448255ed",
   "metadata": {},
   "source": [
    "## Tamanho de listas\n",
    "\n",
    "Podemos usar a função len com listas. O valor retornado é igual ao número de elementos da lista. Vejamos algins testes:\n",
    "\n",
    "```python\n",
    "L = [12,9,5]\n",
    "len(L)\n",
    "3\n",
    "V = []\n",
    "len(V)\n",
    "0\n",
    "```"
   ]
  },
  {
   "cell_type": "code",
   "execution_count": null,
   "id": "86152617",
   "metadata": {},
   "outputs": [],
   "source": []
  },
  {
   "cell_type": "markdown",
   "id": "cc19cbbe",
   "metadata": {},
   "source": [
    "A função **len** pode ser utilizada em repetições para controlar o limite dos índices:\n",
    "\n",
    "```python\n",
    "# Programa 4 - Repetição com tamanho fixo da lista.\n",
    "L = [1,2,3]\n",
    "x = 0\n",
    "while x < 3:\n",
    "    print(L[x])\n",
    "    x += 1\n",
    "```\n",
    "\n",
    "Digite `Ctrl+Enter` ou $\\blacktriangleright$ **Run**"
   ]
  },
  {
   "cell_type": "code",
   "execution_count": null,
   "id": "1233593e",
   "metadata": {},
   "outputs": [],
   "source": []
  },
  {
   "cell_type": "markdown",
   "id": "cd617156",
   "metadata": {},
   "source": [
    "Isso pode ser rescrito como:\n",
    "\n",
    "```python\n",
    "# Programa 5 - Repetição com tamanho da lista usando len\n",
    "L = [1,2,3]\n",
    "x = 0\n",
    "while x < len(L):\n",
    "    print(L[x])\n",
    "    x += 1\n",
    "```\n",
    "A vantagem é que se trocarmos L para:\n",
    "\n",
    "```python\n",
    "L = [7,8,9,10,11,12]\n",
    "```\n",
    "\n",
    "O resto do progrma continuaria funcionando, pois utilizamos a função **len** para calcular o tamanho da lista.\n",
    "\n",
    "Digite `Ctrl+Enter` ou $\\blacktriangleright$ **Run**"
   ]
  },
  {
   "cell_type": "code",
   "execution_count": null,
   "id": "c99ea5ab",
   "metadata": {},
   "outputs": [],
   "source": []
  },
  {
   "cell_type": "markdown",
   "id": "5996389d",
   "metadata": {},
   "source": [
    "## Adição de elementos.\n",
    "\n",
    "Uma das principais vantagens de trabalharmos com listas é poder adicionar novos elementos durante a execução do programa. Para adicionar um elemento ao fim da lista, utilizamos o método **append**. Em Python, chamamos um método escrevendo o nome dele após o nome do objeto. Como listas são objetos, sendo L a lista, teremos L.append(valor).\n",
    "\n",
    "```python\n",
    "L = []\n",
    "L.append(\"a\")\n",
    "L\n",
    "[\"a\"]\n",
    "L.append(\"b\")\n",
    "[\"a\",\"b\"]\n",
    "len(L)\n",
    "2\n",
    "```\n",
    "\n",
    "Digite `Ctrl+Enter` ou $\\blacktriangleright$ **Run**"
   ]
  },
  {
   "cell_type": "code",
   "execution_count": null,
   "id": "45354b02",
   "metadata": {},
   "outputs": [],
   "source": []
  },
  {
   "cell_type": "markdown",
   "id": "80e0bcaf",
   "metadata": {},
   "source": [
    "```python\n",
    "# Programa 6 - Adição de elementos à lista\n",
    "L = []\n",
    "while True:\n",
    "    n  = int(input(\"Digite um número (0 sai): \"))\n",
    "    if n == 0:\n",
    "        break\n",
    "    L.append(n)\n",
    "x = 0\n",
    "while x < len(L):\n",
    "    print(L[x])\n",
    "    x += 1\n",
    "print(f\"Lista L: {L}\")\n",
    "```\n",
    "\n",
    "Digite `Ctrl+Enter` ou $\\blacktriangleright$ **Run**"
   ]
  },
  {
   "cell_type": "code",
   "execution_count": null,
   "id": "cfad8077",
   "metadata": {},
   "outputs": [],
   "source": []
  },
  {
   "cell_type": "markdown",
   "id": "42202fc0",
   "metadata": {},
   "source": [
    "Outra forma de adicionarmos elementos a uma lista é com adição de listas, usando +:\n",
    "\n",
    "```python\n",
    "L = []\n",
    "L = L + [1]\n",
    "L \n",
    "[1]\n",
    "L += [2,3,4]\n",
    "L\n",
    "[1,2,3,4]\n",
    "```\n",
    "Digite `Ctrl+Enter` ou $\\blacktriangleright$ **Run**"
   ]
  },
  {
   "cell_type": "code",
   "execution_count": null,
   "id": "0e8d288a",
   "metadata": {},
   "outputs": [],
   "source": []
  },
  {
   "cell_type": "markdown",
   "id": "eb5638f9",
   "metadata": {},
   "source": [
    "Se você utilizar o método **append** com uma lista como parâmetro, em vez de adicionar os elementos ao fim da lista, **append** adicionará a lista inteira, mas como apenas um novo elemento. Teremos então listas dentro de listas:\n",
    "\n",
    "```python\n",
    "L = [\"a\"]\n",
    "L.append([\"b\"])\n",
    "L.append([\"c\",\"d\"])\n",
    "len(L)\n",
    "3\n",
    "L[1]\n",
    "[\"b\"]\n",
    "L[2]\n",
    "[\"c\",\"d\"]\n",
    "len(L[2])\n",
    "2\n",
    "L[2][1]\n",
    "\"d\"\n",
    "```\n",
    "Esse conceito é interessante, pois permite a utilização de estruturas de dados mais complexas, como matrizes, árvores e registros. Por enquanto, vamos utilizar esse recurso para armazenar múltiplos valores por elemento.\n",
    "\n",
    "Digite `Ctrl+Enter` ou $\\blacktriangleright$ **Run**"
   ]
  },
  {
   "cell_type": "code",
   "execution_count": null,
   "id": "b69e6825",
   "metadata": {},
   "outputs": [],
   "source": []
  },
  {
   "cell_type": "markdown",
   "id": "fc068288",
   "metadata": {},
   "source": [
    "Exercício 2 - Faça um programa que leia duas listas e que gere uma terceira com elementos das duas primeiras.\n",
    "\n",
    "Digite `Ctrl+Enter` ou $\\blacktriangleright$ **Run**"
   ]
  },
  {
   "cell_type": "code",
   "execution_count": null,
   "id": "967cc8ee",
   "metadata": {},
   "outputs": [],
   "source": []
  },
  {
   "cell_type": "markdown",
   "id": "c371640b",
   "metadata": {},
   "source": [
    "Exercício 3 - Faça um programa que percorra duas listas e gere uma terceira sem elementos repetidos.\n",
    "\n",
    "Digite `Ctrl+Enter` ou $\\blacktriangleright$ **Run**"
   ]
  },
  {
   "cell_type": "code",
   "execution_count": null,
   "id": "3cc80176",
   "metadata": {},
   "outputs": [],
   "source": []
  }
 ],
 "metadata": {
  "kernelspec": {
   "display_name": "Python 3 (ipykernel)",
   "language": "python",
   "name": "python3"
  },
  "language_info": {
   "codemirror_mode": {
    "name": "ipython",
    "version": 3
   },
   "file_extension": ".py",
   "mimetype": "text/x-python",
   "name": "python",
   "nbconvert_exporter": "python",
   "pygments_lexer": "ipython3",
   "version": "3.11.6"
  }
 },
 "nbformat": 4,
 "nbformat_minor": 5
}
