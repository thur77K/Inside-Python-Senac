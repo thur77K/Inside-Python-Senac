{
 "cells": [
  {
   "cell_type": "markdown",
   "id": "5566be27",
   "metadata": {},
   "source": [
    "#  3 - Condições\n",
    "\n",
    "Nem sempre todas as linhas dos programas serão executadas. Muitas vezes, será mais interessante decidir que partes do programa devem ser executadas com base no resultado de uma condição. A base dessas decisões consistirá em expressões lógicas que permitam representar escolhas em programas.\n",
    "\n",
    "## 3.1 - if\n",
    "\n",
    "As condições servem para selecionar quando uma parte do programa deve ser ativada e quando deve ser simplesmente ignorada. Em Python, estrutura de decisão é o **if**. Seu formato é apresentado a seguir:\n",
    "\n",
    "```python\n",
    "if <condição>:\n",
    "    bloco verdadeiro\n",
    "```\n",
    "\n",
    "O **if** nada mais é que o nosso \"se\". Poderemos, então, entendê-lo em português da seguinte forma: **se** a condição for verdadeira, faça algo.\n",
    "\n",
    "Vejamos um exemplo de programa que lê dois valores e imprime qual é o maior:\n",
    "\n",
    "```python\n",
    "# Programa 3.1 - Lê dois valores e imprime qual é o maior\n",
    "\n",
    "a = int(input(\"Primeiro valor: \"))\n",
    "b = int(input(\"O segundo valor: \"))\n",
    "if a > b:\n",
    "    print(\"O primeiro valor é o maior!\")\n",
    "if b > a:\n",
    "    print(\"O segundo valor é o maior\")\n",
    "```\n",
    "\n",
    "****Observação: codifique na célula abaixo; entenda as linhas do programa e tire suas dúvidas se houver.***\n",
    "\n",
    " Digite `Ctrl+Enter` ou $\\blacktriangleright$ **Run**"
   ]
  },
  {
   "cell_type": "code",
   "execution_count": null,
   "id": "503ba325",
   "metadata": {},
   "outputs": [],
   "source": []
  },
  {
   "cell_type": "markdown",
   "id": "f624e3b2",
   "metadata": {},
   "source": [
    "Vejamos outro exemplo, em que solicitaremos a idade do carro do usuário e, em seguida, escreveremos novo se o carro tiver menos de três anos; ou velho, caso contrário.\n",
    "\n",
    "```python\n",
    "# Programa 3.2 - Carro novo ou velho, dependendo da idade\n",
    "\n",
    "idade = int(input(\"Digite a idade do seu carro: \"))\n",
    "if idade <= 3:\n",
    "    print(\"Seu carro é novo\")\n",
    "if idade > 3:\n",
    "    print(\"Seu carro é velho\")\n",
    "```\n",
    "***Observação: codifique na célula abaixo; entenda as linhas do programa e tire suas dúvidas se houver.***\n",
    "\n",
    " Digite `Ctrl+Enter` ou $\\blacktriangleright$ **Run**"
   ]
  },
  {
   "cell_type": "code",
   "execution_count": null,
   "id": "7c2b58e4",
   "metadata": {},
   "outputs": [],
   "source": []
  },
  {
   "cell_type": "markdown",
   "id": "7e7eea6d",
   "metadata": {},
   "source": [
    "**Exercício 3.1** - Escreva um programa que pergunte a velocidade do carro de um usuário. Caso ultrapasse 80 km/h, exiba uma mensagem dizendo que o usuário foi multado. Nesse caso, exiba o valor da multa, cobrando R\\$ 5,00 por km acima de 80 km/h.\n",
    "\n",
    "***Observação: codifique na célula abaixo; entenda as linhas do programa e tire suas dúvidas se houver.***\n",
    "\n",
    " Digite `Ctrl+Enter` ou $\\blacktriangleright$ **Run**"
   ]
  },
  {
   "cell_type": "code",
   "execution_count": null,
   "id": "51775a73",
   "metadata": {},
   "outputs": [],
   "source": []
  },
  {
   "cell_type": "markdown",
   "id": "0bb4cb45",
   "metadata": {},
   "source": [
    "Um problema comum é quando temos de pagar Imposto de Renda. Normalmente, pagamos o Imposto de Renda por faixa fixa de salário. Imagine que, para salários menores $\\text{R}\\$ ~1000,00$, não teríamos imposto a pagar, ou seja, aliquota $0\\%$. Para salários entre $\\text{R}\\$ ~1000,00$ e $\\text{R}\\$ ~3000,00$, pagaríamos $20\\%$. Acima desses valores, a alíquota seria de $35\\%$. Esse problema se pareceria muito com o anterior, salvo se o imposto não fosse cobrado para cada faixa, ou seja, quem ganha $\\text{R}\\$ ~4000,00$ tem os primeiros $\\text{R}\\$ ~1000,00$ isentos de imposto; com o montante entre $\\text{R}\\$ ~1000,00$ e $\\text{R}\\$ ~3000,00$ pagando $20\\%$ e o restante pagando os $35\\%$. Vejamos a solução:"
   ]
  },
  {
   "cell_type": "markdown",
   "id": "048d66fc",
   "metadata": {},
   "source": [
    "```python\n",
    "# Programa 3.3 - Cálculo do Imposto de Renda\n",
    "salário = float(input(\"Digite o salário para cálculo do imposto: \"))\n",
    "base = salário\n",
    "imposto = 0\n",
    "if base > 3000:\n",
    "    imposto = imposto + ((base - 3000) * 0.35)\n",
    "    base = 3000\n",
    "if base > 1000:\n",
    "    imposto = imposto + ((base - 1000) * 0.20)\n",
    "print(f\"Salário:R${salário:6.2f} Imposto a pagar: R${imposto:6.2f}\")\n",
    "```\n",
    "\n",
    "***Observação: codifique na célula abaixo; entenda as linhas do programa e tire suas dúvidas se houver.***\n",
    "\n",
    " Digite `Ctrl+Enter` ou $\\blacktriangleright$ **Run**"
   ]
  },
  {
   "cell_type": "code",
   "execution_count": null,
   "id": "7514b4d3",
   "metadata": {},
   "outputs": [],
   "source": []
  },
  {
   "cell_type": "markdown",
   "id": "076f9506",
   "metadata": {},
   "source": [
    "**Exercício 3.2** - Escreva um programa que leia três números e que imprima o maior e o menor.\n",
    "\n",
    "***Observação: codifique na célula abaixo; entenda as linhas do programa e tire suas dúvidas se houver.***\n",
    "\n",
    " Digite `Ctrl+Enter` ou $\\blacktriangleright$ **Run**"
   ]
  },
  {
   "cell_type": "code",
   "execution_count": null,
   "id": "cfd54f09",
   "metadata": {},
   "outputs": [],
   "source": []
  },
  {
   "cell_type": "markdown",
   "id": "be8bd268",
   "metadata": {},
   "source": [
    "**Exercício 3.3** - Escreva um programa que pergunte o salário do funcionário e calcule o valor do aumento. Para salários superiores a $\\text{R}\\$~1250,00$, calcule um aumento de $10\\%$. Para inferiores ou iguais, de $15\\%$.\n",
    "\n",
    "***Observação: codifique na célula abaixo; entenda as linhas do programa e tire suas dúvidas se houver.***\n",
    "\n",
    " Digite `Ctrl+Enter` ou $\\blacktriangleright$ **Run**"
   ]
  },
  {
   "cell_type": "code",
   "execution_count": null,
   "id": "6a9a369d",
   "metadata": {},
   "outputs": [],
   "source": []
  },
  {
   "cell_type": "markdown",
   "id": "5add1fd1",
   "metadata": {},
   "source": [
    "## 3. 2 - else\n",
    "\n",
    "Quando há problemas, como mensagem do carro velho (Programa 3.2), na qual a segunda condição é simplesmente o inverso da primeira, podemos usar outra forma de **if** para simplificar os programas. Essa forma é a cláusula **else** para especificar o que fazer caso o resultado da avaliação da condição seja falso, sem precisarmos de um novo **if**. Vejamos como ficaria o programa reescrito para usar **else**:\n",
    "\n",
    "```python\n",
    "# Programa 3.4 - Carro novo ou velho, dependendo da idade com else\n",
    "idade = int(input(\"Digite a idade de seu carro: \"))\n",
    "if idade <= 3:\n",
    "    print(\"Seu carro é novo\")\n",
    "else:\n",
    "    print(\"Seu carro é velho\")\n",
    "```\n",
    "\n",
    "***Observação: codifique na célula abaixo; entenda as linhas do programa e tire suas dúvidas se houver.***\n",
    "\n",
    " Digite `Ctrl+Enter` ou $\\blacktriangleright$ **Run**"
   ]
  },
  {
   "cell_type": "code",
   "execution_count": null,
   "id": "c5d87f8e",
   "metadata": {},
   "outputs": [],
   "source": []
  },
  {
   "cell_type": "markdown",
   "id": "d67ac98d",
   "metadata": {},
   "source": [
    "**Exercício 3.4** - Escreva um programa que pergunte a distância que um passageiro deseja percorrer em km. Calcule o preço da passagem, cobrando $\\text{R}\\$~ 0,50$ por km para viagens de até de 200 km, e $\\text{R}\\$~0,45$ para viagens mais longas.\n",
    "\n",
    "***Observação: codifique na célula abaixo; entenda as linhas do programa e tire suas dúvidas se houver.***\n",
    "\n",
    " Digite `Ctrl+Enter` ou $\\blacktriangleright$ **Run**"
   ]
  },
  {
   "cell_type": "code",
   "execution_count": null,
   "id": "308fc97e",
   "metadata": {},
   "outputs": [],
   "source": []
  },
  {
   "cell_type": "markdown",
   "id": "56d330df",
   "metadata": {},
   "source": [
    "## 3.3 - Estruturas aninhadas\n",
    "\n",
    "Nem sempre nossos programas serão simples. Muitas vezes precisaremos aninhar vários **if** para obter o comportamento desejado do programa. Aninhar nesse caso, é utilizar um **if** dentro do outro.\n",
    "\n",
    "Vejamos o exemplo de calcular a conta de um telefone celular da empresa Tchau. Os planos da empresa Tchau são bem interessantes e oferecem preços diferenciados de acordo com a quantidade de minutos usados por mês. Abaixo de 200 minutos a empresa cobra $\\text{R}\\$~0,20$ por minuto. Entre 200 e 400 minutos, o preço é $\\text{R}\\$~0,18$. Acima de 400 minutos, o preço por minuto é de $\\text{R}\\$~0,15$. O programa 3.5 resolve esse problema:"
   ]
  },
  {
   "cell_type": "markdown",
   "id": "b1e400e1",
   "metadata": {},
   "source": [
    "```python\n",
    "# Programa 3.5 - Conta de telefone com três faixas de preço\n",
    "minutos = int(input(\"quantos minutos você utilizou este mês: \"))\n",
    "if minutos < 200:\n",
    "    preço = 0.20\n",
    "else:\n",
    "    if minutos < 400:\n",
    "        preço = 0.18\n",
    "    else:\n",
    "        preço = 0.15\n",
    "print(f\"Você vai pagar este mês: R$ {minutos * preço: 6.2f}\")\n",
    "```\n",
    "***Observação: codifique na célula abaixo; entenda as linhas do programa e tire suas dúvidas se houver.***\n",
    "\n",
    " Digite `Ctrl+Enter` ou $\\blacktriangleright$ **Run**"
   ]
  },
  {
   "cell_type": "code",
   "execution_count": null,
   "id": "f67aaad6",
   "metadata": {},
   "outputs": [],
   "source": []
  },
  {
   "cell_type": "markdown",
   "id": "4139a00f",
   "metadata": {},
   "source": [
    "Vejamos, por exemplo, a situação que cinco categorias são necessárias. Façamos um programa que leia a categoria de um produto e determine o preço pela tabela 3.1.\n",
    "\n",
    "Tabela 3.1 - *Categorias de produto e preço*\n",
    "\n",
    "|**Categoria**|**Preço**|\n",
    "|:----:|:----:|\n",
    "|1|10,00|\n",
    "|2|18,00|\n",
    "|3|23,00|\n",
    "|4|26,00|\n",
    "|5|31,00|\n",
    "\n"
   ]
  },
  {
   "cell_type": "markdown",
   "id": "3ce109bd",
   "metadata": {},
   "source": [
    "```python\n",
    "# Programa 3.6 - Categoria x preço\n",
    "\n",
    "categoria = int(input(\"Digite a categoria do produto: \"))\n",
    "if categoria == 1:\n",
    "    preço = 10.00\n",
    "else:\n",
    "    if categoria == 2:\n",
    "        preço = 18.00\n",
    "    else:\n",
    "        if categoria == 3:\n",
    "            preço = 23.00\n",
    "        else:\n",
    "            if categoria == 4:\n",
    "                preço = 26.00\n",
    "            else:\n",
    "                if categoria == 5:\n",
    "                    preço = 31.00\n",
    "                else:\n",
    "                    print(\"Categoria inválida, digite um valor entre 1 e 5 !\")\n",
    "                    preço = 0\n",
    "    print(f\"O preço do produto é: R${preço:6.2f}\")\n",
    "```\n",
    "\n",
    "***Observação: codifique na célula abaixo; entenda as linhas do programa e tire suas dúvidas se houver.***\n",
    "\n",
    " Digite `Ctrl+Enter` ou $\\blacktriangleright$ **Run**"
   ]
  },
  {
   "cell_type": "code",
   "execution_count": null,
   "id": "365646bc",
   "metadata": {},
   "outputs": [],
   "source": []
  },
  {
   "cell_type": "markdown",
   "id": "859fbb55",
   "metadata": {},
   "source": [
    "Observe que o alinhamento se tornou um grande problema, uma vez que tivemos de deslocar à direita a cada **else**."
   ]
  },
  {
   "cell_type": "markdown",
   "id": "8777e70a",
   "metadata": {},
   "source": [
    "## 3.4 - elif\n",
    "\n",
    "Python apresenta uma solução muito interessante ao problema de múltiplos **if**s aninhados. A cláusula **elif** substitui um par **else if**, mas sem criar outro nível de estrutura, evitando problemas de deslocamentos desnecessários à direita.\n",
    "\n",
    " Vamos revisar o Programa 3.6 dessa vez usando **elif**. Veja o resultado no programa 3.7:\n",
    " \n",
    " ```python\n",
    "# Programa 4.7 - Categoria x preço, usando elif\n",
    "categoria == 1:\n",
    "    preço = 10\n",
    "elif categoria == 2:\n",
    "    preço = 18\n",
    "elif categoria == 3:\n",
    "    preço = 23\n",
    "elif categoria == 4:\n",
    "    preço = 26\n",
    "elif categoria == 5:\n",
    "    preço = 31\n",
    "else:\n",
    "    print(\"Categoria inválida, digite um valor de 1 a 5 !\")\n",
    "    preço = 0\n",
    "print(f\"O preço do produto é: R$ {preço: 6.2f}\")\n",
    "```\n",
    "***Observação: codifique na célula abaixo; entenda as linhas do programa e tire suas dúvidas se houver.***\n",
    "\n",
    " Digite `Ctrl+Enter` ou $\\blacktriangleright$ **Run**"
   ]
  },
  {
   "cell_type": "code",
   "execution_count": null,
   "id": "3d0bf8cf",
   "metadata": {},
   "outputs": [],
   "source": []
  },
  {
   "cell_type": "markdown",
   "id": "b237a459",
   "metadata": {},
   "source": [
    "**Exercício 3. 5** - Escreva um programa que leia dois números e que pergunte qual operação você deseja realizar. Você deve poder calcular soma (+), subtração (-), multiplicação (*) e divisão (/). Exiba o resultado da operação solicitada.\n",
    "\n",
    "***Observação: codifique na célula abaixo; entenda as linhas do programa e tire suas dúvidas se houver.***\n",
    "\n",
    " Digite `Ctrl+Enter` ou $\\blacktriangleright$ **Run**"
   ]
  },
  {
   "cell_type": "code",
   "execution_count": null,
   "id": "696cb362",
   "metadata": {},
   "outputs": [],
   "source": []
  },
  {
   "cell_type": "markdown",
   "id": "3bfb5878",
   "metadata": {},
   "source": [
    "**Exercício 3.6** - Escreva um programa que calcule o preço a pagar pelo fornecimento de energia elétrica. Pergunte a quantidade de kWh consumida e o tipo de instalação: R para residências, I para indústrias e C para comércios. Calcule o preço a pagar de acordo com a tabela a seguir.\n",
    "\n",
    "Tabela 3.2 – Preço por tipo e faixa de consumo\n",
    "\n",
    "|**Tipo**| **Faixa(kWh)**| **Preço em $\\text{R}\\$ $**|\n",
    "|:----:|:----:|:-----:|\n",
    "|Residencial| Até 500|0,40|\n",
    "| | Acima de 500|0,65|\n",
    "|Comercial|Até 1000|0,55|\n",
    "| |Acima de 1000|0,60| \n",
    "| Industrial | Até 5000 | 0,55 |\n",
    "| |Acima de 1000|0,60|\n",
    "\n",
    "***Observação: codifique na célula abaixo; entenda as linhas do programa e tire suas dúvidas se houver.***\n",
    "\n",
    " Digite `Ctrl+Enter` ou $\\blacktriangleright$ **Run**"
   ]
  },
  {
   "cell_type": "code",
   "execution_count": null,
   "id": "e1b410aa",
   "metadata": {},
   "outputs": [],
   "source": []
  },
  {
   "cell_type": "markdown",
   "id": "03904f11",
   "metadata": {},
   "source": [
    "## 3.5 - F - Strings\n",
    "\n",
    "Já utilizamos F-Strings para compor strings, mas vamos revisitar o assunto. F-Strings foram introduzidas na versão 3.6 do Python. Com essa sintaxe, é possível substituir o valor de uma variável ou expressão dentro de uma string. Por exemplo:\n",
    "\n",
    "```python\n",
    "a = \"mundo\"\n",
    "print(f\"Alô {a}\")\n",
    "```\n",
    "\n",
    "***Observação: codifique na célula abaixo; entenda as linhas do programa e tire suas dúvidas se houver.***\n",
    "\n",
    " Digite `Ctrl+Enter` ou $\\blacktriangleright$ **Run**"
   ]
  },
  {
   "cell_type": "code",
   "execution_count": null,
   "id": "18d41109",
   "metadata": {},
   "outputs": [],
   "source": []
  },
  {
   "cell_type": "markdown",
   "id": "11592345",
   "metadata": {},
   "source": [
    "Você pode também formatar f-strings especificando o número de caracteres após o nome da variável e dos dois pontos. Exemplo:\n",
    "\n",
    "```python\n",
    "preço = 5.20\n",
    "print(f\"Preço: {preço: 5.2f}\")\n",
    "```\n",
    "***Observação: codifique na célula abaixo; entenda as linhas do programa e tire suas dúvidas se houver.***\n",
    "\n",
    " Digite `Ctrl+Enter` ou $\\blacktriangleright$ **Run**"
   ]
  },
  {
   "cell_type": "code",
   "execution_count": null,
   "id": "1d2d26dc",
   "metadata": {},
   "outputs": [],
   "source": []
  },
  {
   "cell_type": "markdown",
   "id": "045cc6b2",
   "metadata": {},
   "source": [
    "```python\n",
    "print(f\"Preço: {preço: 10.2f}\")\n",
    "```\n",
    "***Observação: codifique na célula abaixo; entenda as linhas do programa e tire suas dúvidas se houver.***\n",
    "\n",
    " Digite `Ctrl+Enter` ou $\\blacktriangleright$ **Run**"
   ]
  },
  {
   "cell_type": "code",
   "execution_count": null,
   "id": "e8340d7f",
   "metadata": {},
   "outputs": [],
   "source": []
  },
  {
   "cell_type": "markdown",
   "id": "318084fe",
   "metadata": {},
   "source": [
    "```python\n",
    "f\"Preço: {preço: .2f}\"\n",
    "```\n",
    "***Observação: codifique na célula abaixo; entenda as linhas do programa e tire suas dúvidas se houver.***\n",
    "\n",
    " Digite `Ctrl+Enter` ou $\\blacktriangleright$ **Run**"
   ]
  },
  {
   "cell_type": "code",
   "execution_count": null,
   "id": "9f74db42",
   "metadata": {},
   "outputs": [],
   "source": []
  },
  {
   "cell_type": "markdown",
   "id": "9074b5e5",
   "metadata": {},
   "source": [
    " Você também pode usar \\<, > e ^ para alinhar os valores à esquerda, à direita ou ao centro (da tela):\n",
    " \n",
    " ```python\n",
    "print(f\"Preço: {preço: >10.2f}\")\n",
    "```\n",
    "\n",
    "***Observação: codifique na célula abaixo; entenda as linhas do programa e tire suas dúvidas se houver.***\n",
    "\n",
    " Digite `Ctrl+Enter` ou $\\blacktriangleright$ **Run**"
   ]
  },
  {
   "cell_type": "code",
   "execution_count": null,
   "id": "8b4c61f8",
   "metadata": {},
   "outputs": [],
   "source": []
  },
  {
   "cell_type": "markdown",
   "id": "462cbd05",
   "metadata": {},
   "source": [
    "```python\n",
    "print(f'Preço: {preço: <10.2f}')\n",
    "```\n",
    "***Observação: codifique na célula abaixo; entenda as linhas do programa e tire suas dúvidas se houver.***\n",
    "\n",
    " Digite `Ctrl+Enter` ou $\\blacktriangleright$ **Run**"
   ]
  },
  {
   "cell_type": "code",
   "execution_count": null,
   "id": "fa86506d",
   "metadata": {},
   "outputs": [],
   "source": []
  },
  {
   "cell_type": "markdown",
   "id": "b506fd52",
   "metadata": {},
   "source": [
    "```python\n",
    "print(f\"Preço: {preço: ^10.2f}\")\n",
    "```\n",
    "***Observação: codifique na célula abaixo; entenda as linhas do programa e tire suas dúvidas se houver.***\n",
    "\n",
    " Digite `Ctrl+Enter` ou $\\blacktriangleright$ **Run**"
   ]
  },
  {
   "cell_type": "code",
   "execution_count": null,
   "id": "0dbc1bb3",
   "metadata": {},
   "outputs": [],
   "source": []
  },
  {
   "cell_type": "markdown",
   "id": "af7d3512",
   "metadata": {},
   "source": [
    "E também especificar qual caractere deve ser utilizado para preencher os espaços em branco:\n",
    "\n",
    "```python\n",
    "print(f\"Preço: {preço:.^ 10.2f}\")\n",
    "```\n",
    "***Observação: codifique na célula abaixo; entenda as linhas do programa e tire suas dúvidas se houver.***\n",
    "\n",
    " Digite `Ctrl+Enter` ou $\\blacktriangleright$ **Run**"
   ]
  },
  {
   "cell_type": "code",
   "execution_count": null,
   "id": "b701068e",
   "metadata": {},
   "outputs": [],
   "source": []
  },
  {
   "cell_type": "markdown",
   "id": "fa22c12d",
   "metadata": {},
   "source": [
    "```python\n",
    "print(f\"Preço: {preço:x^ 10.2f}\")\n",
    "```\n",
    "***Observação: codifique na célula abaixo; entenda as linhas do programa e tire suas dúvidas se houver.***\n",
    "\n",
    " Digite `Ctrl+Enter` ou $\\blacktriangleright$ **Run**"
   ]
  },
  {
   "cell_type": "code",
   "execution_count": null,
   "id": "a157beff",
   "metadata": {},
   "outputs": [],
   "source": []
  },
  {
   "cell_type": "markdown",
   "id": "edc8e5e7",
   "metadata": {},
   "source": [
    "```python\n",
    "print(f\"Preço: {preço:_^ 10.2f}\")\n",
    "```\n",
    "***Observação: codifique na célula abaixo; entenda as linhas do programa e tire suas dúvidas se houver.***\n",
    "\n",
    " Digite `Ctrl+Enter` ou $\\blacktriangleright$ **Run**"
   ]
  },
  {
   "cell_type": "code",
   "execution_count": null,
   "id": "a7a6f487",
   "metadata": {},
   "outputs": [],
   "source": []
  },
  {
   "cell_type": "markdown",
   "id": "8b353370",
   "metadata": {},
   "source": [
    "Essa forma de escrever é tão poderosa que você pode até chamar funções dentro da f-string:\n",
    "\n",
    "```python\n",
    "x = 5.1\n",
    "f\"inteiro: {int(x)}\"\n",
    "```\n",
    "\n",
    "***Observação: codifique na célula abaixo; entenda as linhas do programa e tire suas dúvidas se houver.***\n",
    "\n",
    " Digite `Ctrl+Enter` ou $\\blacktriangleright$ **Run**"
   ]
  },
  {
   "cell_type": "code",
   "execution_count": null,
   "id": "0e564e57",
   "metadata": {},
   "outputs": [],
   "source": []
  },
  {
   "cell_type": "markdown",
   "id": "3fb9260e",
   "metadata": {},
   "source": [
    "Assim como realizar operações matemáticas:\n",
    "\n",
    "```python\n",
    "preço = 5.20\n",
    "f\"Preço: {preço * 10:5.2f}!\"\n",
    "```\n",
    "\n",
    "***Observação: codifique na célula abaixo; entenda as linhas do programa e tire suas dúvidas se houver.***\n",
    "\n",
    " Digite `Ctrl+Enter` ou $\\blacktriangleright$ **Run**"
   ]
  },
  {
   "cell_type": "code",
   "execution_count": null,
   "id": "bf418bd8",
   "metadata": {},
   "outputs": [],
   "source": []
  },
  {
   "cell_type": "markdown",
   "id": "3a49ca78",
   "metadata": {},
   "source": [
    "F-strings também funcionam com strings de mútiplas linhas, usando-se as aspas triplas prefixadas com letra f:\n",
    "\n",
    "```python\n",
    "print(f\"\"\" \n",
    "O preço do nono produto é: R${preço:5.2f}.\n",
    "E pode ser encontrado nas melhores lojas do ramo.\n",
    "\"\"\")\n",
    "```\n",
    "\n",
    "***Observação: codifique na célula abaixo; entenda as linhas do programa e tire suas dúvidas se houver.***\n",
    "\n",
    " Digite `Ctrl+Enter` ou $\\blacktriangleright$ **Run**"
   ]
  },
  {
   "cell_type": "code",
   "execution_count": null,
   "id": "5454e753",
   "metadata": {},
   "outputs": [],
   "source": []
  },
  {
   "cell_type": "markdown",
   "id": "e7a66ae6",
   "metadata": {},
   "source": [
    "Observe que as linhas foram representadas com \\n. Esta combinação de caracteres é utilizada para representar uma quebra de linha e você pode utilizá-la em sua strings:\n",
    "\n",
    "```python\n",
    "a = \"primeira linha\\nsegunda linha\\nterceira linha\"\n",
    "print(a)\n",
    "```\n",
    "\n",
    "***Observação: codifique na célula abaixo; entenda as linhas do programa e tire suas dúvidas se houver.***\n",
    "\n",
    " Digite `Ctrl+Enter` ou $\\blacktriangleright$ **Run**"
   ]
  },
  {
   "cell_type": "code",
   "execution_count": null,
   "id": "aa346945",
   "metadata": {},
   "outputs": [],
   "source": []
  }
 ],
 "metadata": {
  "kernelspec": {
   "display_name": "Python 3 (ipykernel)",
   "language": "python",
   "name": "python3"
  },
  "language_info": {
   "codemirror_mode": {
    "name": "ipython",
    "version": 3
   },
   "file_extension": ".py",
   "mimetype": "text/x-python",
   "name": "python",
   "nbconvert_exporter": "python",
   "pygments_lexer": "ipython3",
   "version": "3.11.4"
  }
 },
 "nbformat": 4,
 "nbformat_minor": 5
}
