{
 "cells": [
  {
   "cell_type": "markdown",
   "id": "79c2226c",
   "metadata": {},
   "source": [
    "# Repetições\n",
    "\n",
    "Repetições representam a base de vários programas. São utilizadas para executar a mesma parte de um programa várias vezes, normalmente depende de uma condição. Por exemplo, para imprimir três números na tela, poderíamos escrever um programa como:\n",
    "\n",
    "```python\n",
    "print(1)\n",
    "print(2)\n",
    "print(3)\n",
    "```\n",
    "Podemos imaginar que para imprimir três números, começando de 1 até o 3, devemos variar **print**(x), em que x varia de 1 até 3. Vejamos outra solução:\n",
    "\n",
    "```python\n",
    "x = 1\n",
    "print(x)\n",
    "x = 2\n",
    "print(x)\n",
    "x = 3\n",
    "print(x)\n",
    "```\n",
    "Outra solução seria incrementar o valor de *x* após cada **print**:\n",
    "\n",
    "```python\n",
    "x = 1\n",
    "print(x)\n",
    "x = x + 1\n",
    "print(x)\n",
    "x = x + 1\n",
    "print(x)\n",
    "```\n",
    "Porém, se o objetivo fosse escrever 100 números, a solução não seria tão agradável, pois teríamos de escrever pelo menos 200 linhas! A estrutura de repetição aparece para nos auxiliar a resolver esse tipo de problema.\n",
    "\n",
    "Uma das estruturas de repetição do Python é o **while**, que repete um bloco enquanto a condição for verdadeira. Seu formato é apresentado a seguir, em que *condição* é uma expressão lógica, e *bloco* representa as linhas de programa a repetir enquanto o resultado da condição for verdadeiro (True).\n",
    "\n",
    "```python\n",
    "while <condição>:\n",
    "    bloco\n",
    "```\n",
    "\n",
    "Para resolver o problema de escrever três números utilizando o **while**, escreveríamos um programa:\n",
    "\n",
    "```python\n",
    "# 4.1 Programa escrever três números utilizando o while\n",
    "x = 1\n",
    "while x <= 3:\n",
    "    print(x)\n",
    "    x = x+1\n",
    "```\n",
    "***Observação: codifique na célula abaixo; entenda as linhas do programa e tire suas dúvidas se houver.***\n",
    "\n",
    " Digite `Ctrl+Enter` ou $\\blacktriangleright$ **Run**"
   ]
  },
  {
   "cell_type": "code",
   "execution_count": null,
   "id": "47c1ad65",
   "metadata": {},
   "outputs": [],
   "source": []
  },
  {
   "cell_type": "markdown",
   "id": "aa686d9d",
   "metadata": {},
   "source": [
    "**Exercício 4.1** - Modifique o programa acima para exibir os números de 1 a 100.\n",
    "\n",
    "***Observação: codifique na célula abaixo; entenda as linhas do programa e tire suas dúvidas se houver.***\n",
    "\n",
    " Digite `Ctrl+Enter` ou $\\blacktriangleright$ **Run**"
   ]
  },
  {
   "cell_type": "code",
   "execution_count": null,
   "id": "1dc939dc",
   "metadata": {},
   "outputs": [],
   "source": []
  },
  {
   "cell_type": "markdown",
   "id": "f19f7bba",
   "metadata": {},
   "source": [
    "**Exercício 4.2** - Modifique o programa para exibir os números de 50 a 100.\n",
    "\n",
    "***Observação: codifique na célula abaixo; entenda as linhas do programa e tire suas dúvidas se houver.***\n",
    "\n",
    " Digite `Ctrl+Enter` ou $\\blacktriangleright$ **Run**"
   ]
  },
  {
   "cell_type": "code",
   "execution_count": null,
   "id": "f0c4f055",
   "metadata": {},
   "outputs": [],
   "source": []
  },
  {
   "cell_type": "markdown",
   "id": "0c3df9c5",
   "metadata": {},
   "source": [
    "**Exercício 4.3** - Faça um programa para escrever a contagem regressiva do lançamento de um foguete. O programa deve imprimir 10,9,8,...,1,0 e Fogo! na tela.\n",
    "\n",
    "***Observação: codifique na célula abaixo; entenda as linhas do programa e tire suas dúvidas se houver.***\n",
    "\n",
    " Digite `Ctrl+Enter` ou $\\blacktriangleright$ **Run**"
   ]
  },
  {
   "cell_type": "code",
   "execution_count": null,
   "id": "81f88a20",
   "metadata": {},
   "outputs": [],
   "source": []
  },
  {
   "cell_type": "markdown",
   "id": "c2e44b79",
   "metadata": {},
   "source": [
    "## Contadores\n",
    "\n",
    "O poder das estruturas de repetições é muito interessante, principalmente quando utilizamos condições com mais de uma variável. Imagine um problema em que deveríamos imprimir números inteiros entre 1 e um valor digitado pelo usuário. Vamos escrever um programa de forma que o último número a imprimir seja informado pelo usuário:\n",
    "\n",
    "```python\n",
    "fim = int(input(\"Digite o último número a imprimir: \"))\n",
    "x = 1\n",
    "while x <= fim:\n",
    "    print(x)\n",
    "    x = x + 1\n",
    "```\n",
    "***Observação: codifique na célula abaixo; entenda as linhas do programa e tire suas dúvidas se houver.***\n",
    "\n",
    " Digite `Ctrl+Enter` ou $\\blacktriangleright$ **Run**"
   ]
  },
  {
   "cell_type": "code",
   "execution_count": null,
   "id": "ed5c9683",
   "metadata": {},
   "outputs": [],
   "source": []
  },
  {
   "cell_type": "markdown",
   "id": "e251dcc4",
   "metadata": {},
   "source": [
    "Imagine que problema agora seja um pouco diferente: imprimir apenas os números pares entre 0 e um número digitado pelo usuário, de forma bem similar ao problema anterior. Poderíamos resolver o problema com um **if** para testar se x é par ou ímpar antes de imprimir. Vale lembrar que um número é par quando é 0 ou múltiplo de 2. Quando é múltiplo de 2, temos que o resto da divisão desse número por 2 é 0, ou seja, o resultado é uma divisão exata, sem resto.\n",
    "\n",
    "Em Python, podemos escrever esse teste com *x % 2 == 0* (resto da divisão de *x* por *2* é igual a zero); alterando o programa anterior, temos:\n",
    "\n",
    "```python\n",
    "fim = int(input(\"Digite o último número a imprimir: \"))\n",
    "x = 0\n",
    "while x <= fim:\n",
    "    if x % 2 == 0:\n",
    "        print(x)\n",
    "    x = x + 1\n",
    "```\n",
    "***Observação: codifique na célula abaixo; entenda as linhas do programa e tire suas dúvidas se houver.***\n",
    "\n",
    " Digite `Ctrl+Enter` ou $\\blacktriangleright$ **Run**"
   ]
  },
  {
   "cell_type": "code",
   "execution_count": null,
   "id": "20ce487e",
   "metadata": {},
   "outputs": [],
   "source": []
  },
  {
   "cell_type": "markdown",
   "id": "28d8ad52",
   "metadata": {},
   "source": [
    "Poderíamos resolvê-lo de forma ainda de forma mais simples se adicionássemos 2 a cada repetição. Isso garantiria que x sempre fosse par:\n",
    "\n",
    "```python\n",
    "fim = int(input(\"Digite o último número a imprimir: \"))\n",
    "x = 0\n",
    "while x <= fim:\n",
    "    print(x)\n",
    "    x = x + 2\n",
    "```\n",
    "***Observação: codifique na célula abaixo; entenda as linhas do programa e tire suas dúvidas se houver.***\n",
    "\n",
    " Digite `Ctrl+Enter` ou $\\blacktriangleright$ **Run**"
   ]
  },
  {
   "cell_type": "code",
   "execution_count": null,
   "id": "9589a0b9",
   "metadata": {},
   "outputs": [],
   "source": []
  },
  {
   "cell_type": "markdown",
   "id": "a6e85366",
   "metadata": {},
   "source": [
    "Esses dois exemplos mostram que existe mais de uma solução para o problema, que podemos escrever programas diferentes e obter a mesma solução. Essas soluções podem ser às vezes mais complicadas, às vezes mais simples, mais ainda assim corretas."
   ]
  },
  {
   "cell_type": "markdown",
   "id": "dcd23ff5",
   "metadata": {},
   "source": [
    "**Exercício 4.4** - Modifique o programa anterior para imprimir de 1 até o número digitado pelo usuário, mas, dessa vez, apenas números ímpares.\n",
    "\n",
    "***Observação: codifique na célula abaixo; entenda as linhas do programa e tire suas dúvidas se houver.***\n",
    "\n",
    " Digite `Ctrl+Enter` ou $\\blacktriangleright$ **Run**"
   ]
  },
  {
   "cell_type": "code",
   "execution_count": null,
   "id": "4b0af316",
   "metadata": {},
   "outputs": [],
   "source": []
  },
  {
   "cell_type": "markdown",
   "id": "9dc99d66",
   "metadata": {},
   "source": [
    "**Exercício 4.5** - Reescreva o programa anterior para escrever os 10 primeiros múltiplos de 3.\n",
    "\n",
    "***Observação: codifique na célula abaixo; entenda as linhas do programa e tire suas dúvidas se houver.***\n",
    "\n",
    " Digite `Ctrl+Enter` ou $\\blacktriangleright$ **Run**"
   ]
  },
  {
   "cell_type": "code",
   "execution_count": null,
   "id": "e5f42739",
   "metadata": {},
   "outputs": [],
   "source": []
  },
  {
   "cell_type": "markdown",
   "id": "fcc40bf7",
   "metadata": {},
   "source": [
    "Contadores também podem ser úteis quando usados com condições dentro dos programas. Vejamos um programa para  corrigir um teste de múltipla escolha com três questões. A resposta da primeira é *b*; da segunda, *a*; e da terceira *d*. O programa seguinte conta um ponto a cada resposta correta:\n",
    "\n",
    "```python\n",
    "pontos = 0\n",
    "questão = 1\n",
    "while questão <= 3:\n",
    "    resposta = input(f\"Resposta da questão {questão}: \")\n",
    "    if questão == 1 and resposta == \"b\":\n",
    "        pontos = pontos + 1\n",
    "    if questão == 2 and resposta == \"a\":\n",
    "        pontos = pontos + 1\n",
    "    if questão == 3 and resposta == \"d\":\n",
    "        pontos = pontos + 1\n",
    "    questão = questão + 1\n",
    "print(f\"O aluno fez {pontos} pontos(s)\")\n",
    "```\n",
    "\n",
    "***Observação: codifique na célula abaixo; entenda as linhas do programa e tire suas dúvidas se houver.***\n",
    "\n",
    " Digite `Ctrl+Enter` ou $\\blacktriangleright$ **Run**"
   ]
  },
  {
   "cell_type": "code",
   "execution_count": null,
   "id": "f4ebf7cb",
   "metadata": {},
   "outputs": [],
   "source": []
  },
  {
   "cell_type": "markdown",
   "id": "073b69e7",
   "metadata": {},
   "source": [
    "**Exercício 4.6** - Modifique o programa anterior para que aceite respostas com letras maiúsculas e minúsculas em todas as questões.\n",
    "\n",
    "***Observação: codifique na célula abaixo; entenda as linhas do programa e tire suas dúvidas se houver.***\n",
    "\n",
    " Digite `Ctrl+Enter` ou $\\blacktriangleright$ **Run**"
   ]
  },
  {
   "cell_type": "code",
   "execution_count": null,
   "id": "d21f6d7a",
   "metadata": {},
   "outputs": [],
   "source": []
  },
  {
   "cell_type": "markdown",
   "id": "7588512b",
   "metadata": {},
   "source": [
    "## Acumuladores\n",
    "\n",
    "Nem só de contadores precisamos. Em programas para calcular o total de uma soma, por exemplo, precisaremos de acumuladores. A diferença entre um contador e um acumulador é que nos contadores o valor adicionado é constante e, nos acumuladores, variável. Vejamos um programa que calcule a soma de 10 números. Nesse caso, *soma* é um acumulador e *n* é um contador.\n",
    "\n",
    "```python\n",
    "n = 1\n",
    "soma = 0\n",
    "while n <= 10:\n",
    "    x = int(input(f\"Digite o {n} número: \"))\n",
    "    soma = soma + x\n",
    "    n = n + 1\n",
    "print(f\"Soma: {soma}\")\n",
    "```\n",
    "\n",
    "***Observação: codifique na célula abaixo; entenda as linhas do programa e tire suas dúvidas se houver.***\n",
    "\n",
    " Digite `Ctrl+Enter` ou $\\blacktriangleright$ **Run**"
   ]
  },
  {
   "cell_type": "code",
   "execution_count": null,
   "id": "6953848f",
   "metadata": {},
   "outputs": [],
   "source": []
  },
  {
   "cell_type": "markdown",
   "id": "48859c17",
   "metadata": {},
   "source": [
    "Podemos definir a média aritmética como a soma de vários números divididos pela quantidade de números somados. Assim, se somamos três números, 4, 5 e 6, teríamos a média aritmética como $(4 +5 + 6) / 3$, em $3$ é quantidade de números. Se chamarmos o primeiro número de $n1$, o segundo $n2$, o terceiro de $n3$, teremos $(n1 + n2 + n3) / 3$. \n",
    "\n",
    "Vejamos um programa que calcula a média de cinco números digitados pelo usuário. Se chamarmos o primeiro valor digitado de $n1$, o segundo de $n2$, e assim sucessivamente, teremos que:\n",
    "\n",
    "$$média = (n1 + n2 + n3 + n5)/5 = \\dfrac{n1+n2+n3+n4+n5}{5}$$\n",
    "\n",
    "Em vez de utilizarmos cinco variáveis, vamos acumular os valores à medida que são lidos.\n",
    "\n",
    "```python\n",
    "x = 1\n",
    "soma = 0\n",
    "while x <= 5:\n",
    "    n = int(input(f\"{x} Digite o número: \"))\n",
    "    soma = soma + n\n",
    "    x = x + 1\n",
    "print(f\"Média: {soma/(x-1):5.2f}\")\n",
    "```\n",
    "\n",
    "***Observação: codifique na célula abaixo; entenda as linhas do programa e tire suas dúvidas se houver.***\n",
    "\n",
    " Digite `Ctrl+Enter` ou $\\blacktriangleright$ **Run**"
   ]
  },
  {
   "cell_type": "code",
   "execution_count": null,
   "id": "1b66815f",
   "metadata": {},
   "outputs": [],
   "source": []
  },
  {
   "cell_type": "markdown",
   "id": "06111113",
   "metadata": {},
   "source": [
    "**Exercício 4.7** - Escreva um programa que pergunte o depósito inicial e a taxa de juros de uma poupança. Exiba os valores mês a mês para os 24 primeiros meses. Escreva o total ganho com juros no período.\n",
    "\n",
    "***Observação: codifique na célula abaixo; entenda as linhas do programa e tire suas dúvidas se houver.***\n",
    "\n",
    " Digite `Ctrl+Enter` ou $\\blacktriangleright$ **Run**"
   ]
  },
  {
   "cell_type": "code",
   "execution_count": null,
   "id": "590d4b0c",
   "metadata": {},
   "outputs": [],
   "source": []
  },
  {
   "cell_type": "markdown",
   "id": "19a3978a",
   "metadata": {},
   "source": [
    "### Operadores de atribuição especiais\n",
    "\n",
    "Muitas vezes, teremos de escrever expressões como $x = x + 1$ ou $y = y -1$. Para simplificar a escrita, a linguagem Pyhon oferece operadores de atribuição especiais como $+=$ e $-=$. Esses operadores têm o mesmo significado de expressões com sinais que o precedem. Por exemplo:\n",
    "\n",
    "*Tabela 4.1 - Operadores de atribuição especiais*\n",
    "\n",
    "|**Operador**|**Exemplo**|**Equivalência**|\n",
    "|:----:|:----:|:----:|\n",
    "|+=|x += 1|x = x + 1|\n",
    "|-=|y -= 1|y = y - 1|\n",
    "|\\*=|c \\*= 2|c = c \\* 2|\n",
    "|/=|d /= 2|d = d / 2|\n",
    "|\\*\\* =|e \\*\\*= 2|e = e \\*\\* 2|\n",
    "|//=|f //= 4|f = f // 4|"
   ]
  },
  {
   "cell_type": "markdown",
   "id": "f487a77d",
   "metadata": {},
   "source": [
    "### Interrompendo a repetição\n",
    "\n",
    "Embora muito útil, a estrutura **while** só verifica sua condição de parada no início de cada repetição. Dependendo do problema, a habilidade de terminar **while** dentro do bloco a repetir pode ser interessante.\n",
    "\n",
    "A intrução **break** é utilizada para interromper a execução de **while** independentemente do valor atual de sua condição. Vejamos o exemplo da leitura de valores até que digitemos 0 (zero):\n",
    "\n",
    "```python\n",
    " s = 0\n",
    "    while True:\n",
    "        v = int(input(\"Digite um número a somar ou 0 para sair: \"))\n",
    "        if v == 0:\n",
    "            break\n",
    "        s += v\n",
    "    print(s)\n",
    "```\n"
   ]
  },
  {
   "cell_type": "markdown",
   "id": "455fb72a",
   "metadata": {},
   "source": [
    "Vejamos como exemplo um programa que leia um valor e que imprima a quantidade de células necessárias para pagar esse mesmo valor. Para simplificar vamos trabalhar apenas com valores inteiros e com cédulas de $R\\$~50$, $R\\$~20$, $R\\$~10$, $R\\$~5$ e $R\\$~1$."
   ]
  },
  {
   "cell_type": "markdown",
   "id": "c8f4fe16",
   "metadata": {},
   "source": [
    "```python\n",
    "# Programa 4.2 - Contagem de cédulas\n",
    "valor = int(input(\"Digite o valor a pagar: \"))\n",
    "cédulas = 0\n",
    "atual = 50\n",
    "apagar = valor\n",
    "while True:\n",
    "    if atual <= apagar:\n",
    "        apagar -= atual\n",
    "        cédulas += 1\n",
    "    else:\n",
    "        print(f\"{cédulas} cédula(s) de R$ {atual}\")\n",
    "        if apagar == 0:\n",
    "            break\n",
    "        if atual == 50:\n",
    "            atual = 20\n",
    "        elif atual == 20:\n",
    "            atual = 10\n",
    "        elif atual == 10:\n",
    "            atual = 5\n",
    "        elif atual == 5:\n",
    "            atual = 1\n",
    "        cédulas = 0\n",
    "```\n",
    "\n",
    "***Observação: codifique na célula abaixo; entenda as linhas do programa e tire suas dúvidas se houver.***\n",
    "\n",
    " Digite `Ctrl+Enter` ou $\\blacktriangleright$ **Run**"
   ]
  },
  {
   "cell_type": "code",
   "execution_count": null,
   "id": "14c03ddd",
   "metadata": {},
   "outputs": [],
   "source": []
  },
  {
   "cell_type": "markdown",
   "id": "629dec93",
   "metadata": {},
   "source": [
    "**Exercício 4.8** - Execute o programa acima para os seguintes valores: 501, 745, 384, 2, 7 e 1.\n",
    "\n",
    "***Observação: codifique na célula abaixo; entenda as linhas do programa e tire suas dúvidas se houver.***\n",
    "\n",
    " Digite `Ctrl+Enter` ou $\\blacktriangleright$ **Run**"
   ]
  },
  {
   "cell_type": "code",
   "execution_count": null,
   "id": "6620b65a",
   "metadata": {},
   "outputs": [],
   "source": []
  },
  {
   "cell_type": "code",
   "execution_count": null,
   "id": "57c2883d",
   "metadata": {},
   "outputs": [],
   "source": []
  },
  {
   "cell_type": "code",
   "execution_count": null,
   "id": "be6e6fa4",
   "metadata": {},
   "outputs": [],
   "source": []
  },
  {
   "cell_type": "code",
   "execution_count": null,
   "id": "d8de486d",
   "metadata": {},
   "outputs": [],
   "source": []
  },
  {
   "cell_type": "code",
   "execution_count": null,
   "id": "d9271be5",
   "metadata": {},
   "outputs": [],
   "source": []
  },
  {
   "cell_type": "code",
   "execution_count": null,
   "id": "d9914378",
   "metadata": {},
   "outputs": [],
   "source": []
  },
  {
   "cell_type": "markdown",
   "id": "8504ade6",
   "metadata": {},
   "source": [
    "## Repetições aninhadas\n",
    "\n",
    "Podemos combinar vários `while` de forma o obter resultados mais interessantes, como repetição com incremento de duas variáveis. Imagine imprimir as tabuadas de multiplicação de 1 a 10. Vejamos como fazer isso:\n",
    "\n",
    "```python\n",
    "tabuada = 1\n",
    "while tabuada <= 10:\n",
    "    número = 1\n",
    "    while número <= 10:\n",
    "        print(f\"{tabuada} x {número} = {tabuada * número}\")\n",
    "        número += 1\n",
    "    tabuada += 1\n",
    "```\n",
    "\n",
    "***Observação: codifique na célula abaixo; entenda as linhas do programa e tire suas dúvidas se houver.***\n",
    "\n",
    " Digite `Ctrl+Enter` ou $\\blacktriangleright$ **Run**"
   ]
  },
  {
   "cell_type": "code",
   "execution_count": null,
   "id": "74dc9848",
   "metadata": {},
   "outputs": [],
   "source": []
  }
 ],
 "metadata": {
  "kernelspec": {
   "display_name": "Python 3 (ipykernel)",
   "language": "python",
   "name": "python3"
  },
  "language_info": {
   "codemirror_mode": {
    "name": "ipython",
    "version": 3
   },
   "file_extension": ".py",
   "mimetype": "text/x-python",
   "name": "python",
   "nbconvert_exporter": "python",
   "pygments_lexer": "ipython3",
   "version": "3.11.4"
  }
 },
 "nbformat": 4,
 "nbformat_minor": 5
}
