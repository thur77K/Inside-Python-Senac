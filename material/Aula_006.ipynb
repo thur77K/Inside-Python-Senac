{
 "cells": [
  {
   "cell_type": "markdown",
   "id": "23ca8828",
   "metadata": {},
   "source": [
    "\n",
    "# Lista\n",
    "\n",
    "\n",
    "![Pythonico](http://localhost:8888/kernelspecs/python3/logo-64x64.png)\n",
    "\n",
    "\n",
    "![jupyter](http://localhost:8888/static/base/images/logo.png?v=e422e4b4869dcac6ed279d4b8ea9dad6710f8fef59512d6c346c434b420315a3db9ff6e13941d10991598351032ba31471b23e71b7e68a36698ad11cb3852791)"
   ]
  },
  {
   "cell_type": "markdown",
   "id": "77159d7c",
   "metadata": {},
   "source": [
    "# Remoção de elementos da lista 🧹\n",
    "\n",
    "Como o tamanho da lista pode variar, permitindo a adição de novos elementos, podemos também retirar alguns elementos da lista, ou mesmo todos eles. Para isso utlizaremos a instrução **del**:\n",
    "\n",
    "```python\n",
    "L = [\"a\",\"b\",\"c\"] # lista L .\n",
    "print(f\"Apresentamos a lista L = {L}\")\n",
    "del L[1] # exclui o segundo elemento .\n",
    "print(f\"Lista L com o segundo elemento L[1] excluido: {L}\")\n",
    "del L[0] # exclui o primeiro elemento .\n",
    "print(f\"Lista L com o primeiro elemento L[0] excluido: {L}\")\n",
    "```\n",
    "Digite `Ctrl+Enter` ou $\\blacktriangleright$ **Run**"
   ]
  },
  {
   "cell_type": "code",
   "execution_count": null,
   "id": "d39d9e6d",
   "metadata": {},
   "outputs": [],
   "source": []
  },
  {
   "cell_type": "markdown",
   "id": "a995c662",
   "metadata": {},
   "source": [
    "👁️‍🗨️ É importante notar que o elemento excluido não ocupa mais lugar na lista, fazendo com que os índices sejam reorganizados, ou melhor, que passem a ser calculados sem esse elemento.\n",
    "\n",
    "Podemos também apagar fatias inteiras de uma só vez:\n",
    "\n",
    "```python\n",
    "L = list(range(101)) # Lista criada com a função list e a função range.\n",
    "print(f\"Lista L = {L}\") # Apresentando na tela os elementos criados.\n",
    "del L[1:99] # excluindo um intervalo númerico do número 1 ao 98.\n",
    "print(f\"Lista L com o intervalo númerico (1 ao 98) excluído: {L}\")\n",
    "```\n",
    "Digite `Ctrl+Enter` ou $\\blacktriangleright$ **Run**"
   ]
  },
  {
   "cell_type": "code",
   "execution_count": null,
   "id": "fa8af24c",
   "metadata": {},
   "outputs": [],
   "source": []
  },
  {
   "cell_type": "markdown",
   "id": "690f79bc",
   "metadata": {},
   "source": [
    "A função **range** gera uma sequência de elementos, mas a cada chamada, sendo o que chamamos de generator. A função **list** é utilizada para transformar o resultado dessa função em uma lista."
   ]
  },
  {
   "cell_type": "markdown",
   "id": "2cdf9966",
   "metadata": {},
   "source": [
    "## Usando listas como filas 🚶‍♀️🚶‍♀️🚶🚶🚶‍♂️🚶‍♂️🐍\n",
    "\n",
    "![fila](https://media3.giphy.com/media/103liSxCY1NpLO/100.webp?cid=ecf05e477vsb06xnykmcfie3f6bawi54k23zgufc2ajde6hj&ep=v1_gifs_search&rid=100.webp&ct=g)\n",
    "\n",
    "![Paciência](https://media1.giphy.com/media/v1.Y2lkPTc5MGI3NjExdnFwN3gxNHF4OHR1b3J0aTloam5qZW1sOG80bWhnejB6MzJndG5wcCZlcD12MV9pbnRlcm5hbF9naWZfYnlfaWQmY3Q9Zw/tXL4FHPSnVJ0A/giphy.gif)\n",
    "\n",
    "Uma lista pode ser utilizada como fila se obedecermos a certas regras de inclusão e eliminação de elementos. Em uma fila, a inclusão é sempre realizada no fim, e as remoções são feitas no início. Dizemos que o primeiro a chegar é o primeiro a sair (***FIFO - First In First Out***).\n",
    "\n",
    "Exemplificando em `Python` 🐍, imaginaremos uma lista de clientes, representando a fila, em que o valor de cada elemento é igual á ordem de chegada do cliente. Vamos imaginar uma lista inicial de 10 clientes, se outro cliente chegar, realizaremos um **append** para ele seja inserido no fim da fila `(fila.append(último))`. Para retirarmos um cliente da fila e atendê-lo, poderíamos fazer **del** *fila\\[0\\]*, porém, isso apagaria o cliente da fila. Se quisermos retirá-lo da fila e, ao mesmo tempo, obter o elemento retirado, podemos utilizar o método **pop** `fila.pop(0)`. O método **pop** retorna o valor do elemento e o exclui da fila. Passamos 0 como parâmetro para indicar que queremos excluir o primeiro elemento.\n",
    "Veja o programa:\n",
    "\n",
    "```python\n",
    "# Programa - Simulação 6.1 - Simulação de uma fila de banco.\n",
    "último = 10 # Atribuindo a variável último.\n",
    "fila = list(range(1, último + 1)) # criando uma lista com a função list, função range e variável último.\n",
    "while True: # Criando um laço.\n",
    "    print(f\"\\n Existem {len(fila)} clientes na fila\")\n",
    "    print(f\"Fila atual: {fila}\")\n",
    "    print(\"Digite F para adicionar um cliente ao fim da fila\")\n",
    "    print(\"ou A para realizar o atendimento. S para sair.\")\n",
    "    operação = input(\"Operação (F, A ou S):\")\n",
    "    if operação == \"A\":\n",
    "        if len(fila) > 0:\n",
    "            atendido = fila.pop(0)\n",
    "            print(f\"Cliente {atendido} atendido\")\n",
    "        else:\n",
    "            print(\"Fila vazia! Ninguém para atender.\")\n",
    "    elif operação == \"F\":\n",
    "        último += 1 # Incrementa o ticket do novo cliente.\n",
    "        fila.append(último)\n",
    "    elif operação == \"S\":\n",
    "        break\n",
    "    else:\n",
    "        print(\"Operação inválida! Digite apenas F,A ou S\")\n",
    "```\n",
    "Digite `Ctrl+Enter` ou $\\blacktriangleright$ **Run**"
   ]
  },
  {
   "cell_type": "code",
   "execution_count": null,
   "id": "7bca98b4",
   "metadata": {},
   "outputs": [],
   "source": []
  },
  {
   "cell_type": "markdown",
   "id": "9de90e87",
   "metadata": {},
   "source": [
    "## Uso de listas como pilhas 🔋\n",
    "                                                             \n",
    "![pilha](https://media4.giphy.com/media/LnueBxeQCvGLS5Wk4a/giphy.webp?cid=ecf05e47gp0jchkash2vuninjuj43h408h3wvvs45j2oatds&ep=v1_gifs_related&rid=giphy.webp&ct=g)\n",
    "                                  \n",
    "Uma pilha tem uma política de acesso bem definida: novos elementos são adicionados ao topo. A retirada de elementos também é feita pelo topo.\n",
    "\n",
    "Na pilha, o último elemento a chegar é o primeiro a sair (***LIFO - Last In First Out***).\n",
    "\n",
    "```python\n",
    "# Programa 6.2 - Pilha de pratos\n",
    "prato = 5\n",
    "pilha = list(range(1, prato + 1))\n",
    "while True:\n",
    "    print(f\"\\nExistem {len(pilha)} pratos na pilha\")\n",
    "    print(f\"Pilha atual: {pilha}\")\n",
    "    print(\"\"\" Digite E para empilhar um novo prato,\n",
    "    ou D para desempilhar, S para sair\"\"\")\n",
    "    operação = input(\"Operação (E, D ou S): \")\n",
    "    if operação == \"D\":\n",
    "        if len(pilha) > 0:\n",
    "            lavado = pilha.pop(-1)\n",
    "            print(f\"Prato {lavado} lavado\")\n",
    "        else:\n",
    "            print(\"Pilha vazia! Nada para lavar.\")\n",
    "    elif operação == \"E\":\n",
    "        prato += 1 # Novo prato\n",
    "        pilha.append(prato)\n",
    "    elif operação == \"S\":\n",
    "        break\n",
    "    else:\n",
    "        print(\"Operação inválida! Digite apenas E, D ou S!\")\n",
    "```\n",
    "Digite `Ctrl+Enter` ou $\\blacktriangleright$ **Run**"
   ]
  },
  {
   "cell_type": "code",
   "execution_count": null,
   "id": "268ca92a",
   "metadata": {},
   "outputs": [],
   "source": []
  },
  {
   "cell_type": "markdown",
   "id": "5bc5d1c4",
   "metadata": {},
   "source": [
    "## Pesquisa 🔍\n",
    "\n",
    "Podemos pesquisar se um elemento está ou não em uma lista, verificando do primeiro ao último elemento se o valor procurado estiver presente:\n",
    "\n",
    "```python\n",
    "# Programa 6.3 - Pesquisa sequencial\n",
    "L = [15, 7, 27, 39]\n",
    "p = int(input(\"Digite o valor a procurar: \"))\n",
    "achou = False\n",
    "x = 0\n",
    "while x < len(L):\n",
    "    if L[x] == p:\n",
    "        achou = True\n",
    "        break\n",
    "    x += 1\n",
    "if achou:\n",
    "    print(f\"{p} achado na posição {x}\")\n",
    "else:\n",
    "    print(f\"{p} não encontrado\")\n",
    "```\n",
    "Digite `Ctrl+Enter` ou $\\blacktriangleright$ **Run**"
   ]
  },
  {
   "cell_type": "code",
   "execution_count": null,
   "id": "926c19a7",
   "metadata": {},
   "outputs": [],
   "source": []
  },
  {
   "cell_type": "markdown",
   "id": "cd29ee83",
   "metadata": {},
   "source": [
    "## Usando o for 🔎 \n",
    "\n",
    "Python apresenta uma estrutura de repetição especialmente projetada para percorrer listas. A instrução **for** funciona de forma parecida a **while**, mas a cada repetição utiliza um elemento diferente da lista.\n",
    "\n",
    "Vamos escrever um programa que utilize **for** para imprimir todos os elementos de uma lista:\n",
    "\n",
    "```python\n",
    "L = [8, 9, 15]\n",
    "for e in L: # 1️⃣️\n",
    "    print(e) # 2️⃣️\n",
    "```\n",
    "Digite `Ctrl+Enter` ou $\\blacktriangleright$ **Run**"
   ]
  },
  {
   "cell_type": "code",
   "execution_count": null,
   "id": "f4e24d10",
   "metadata": {},
   "outputs": [],
   "source": []
  },
  {
   "cell_type": "markdown",
   "id": "831cb593",
   "metadata": {},
   "source": [
    "Quando começamos a executar o for em 1️⃣️, temos `e` igual ao primeiro elemento da lista, no caso, 8, ou seja, `L[0]`. Em 2️⃣️ imprimimos 8, e a execução do programa volta para 1️⃣️, em que passa a valer 9, ou seja, `L[1]` . Próxima repetição `e` valerá 15, ou seja, `L[2]`. Depois de imprimir o último número, a repetição é concluída, pois não temos mais elementos a substituir. Se tivéssemos de fazer a mesma tarefa com while, teríamos de escrever um programa como:\n",
    "\n",
    "```python\n",
    "L = [8,9,15]\n",
    "x = 0\n",
    "while x < len(L):\n",
    "    e = L[x]\n",
    "    print(e)\n",
    "    x += 1\n",
    "```\n",
    "Digite `Ctrl+Enter` ou $\\blacktriangleright$ **Run**"
   ]
  },
  {
   "cell_type": "code",
   "execution_count": null,
   "id": "5de633e7",
   "metadata": {},
   "outputs": [],
   "source": []
  },
  {
   "cell_type": "markdown",
   "id": "f2c9c42c",
   "metadata": {},
   "source": [
    "Embora a instrução `for` facilite nosso trabalho, ela não substitui completamente `while`. Dependendo do problema, utilizaremos `for` ou `while`. Normalmente utilizaremos `for` quando quisermos processar elementos de uma lista, um a um, e `while` é indicado para repetições nas quais não sabemos ainda quantas vezes valos repetir ou onde manipulamos os índices de forma não sequencial.\n",
    "\n",
    "Vale lembrar que instrução `break` também interrompe o `for`. Vejamos a pesquisa, escrita usando `for`:\n",
    "\n",
    "```python\n",
    "L = [7,8,9,10,12]\n",
    "p = int(input(\"Digite um número a pesquisar: \"))\n",
    "for e in L:\n",
    "    if e == p:\n",
    "        print(\"Elemento encontrado!\")\n",
    "        break # 1️⃣️\n",
    "else: # 2️⃣️\n",
    "    print(\"Elemento não encontrado!\")\n",
    "```\n",
    "Digite `Ctrl+Enter` ou $\\blacktriangleright$ **Run**"
   ]
  },
  {
   "cell_type": "code",
   "execution_count": null,
   "id": "de3e4fb2",
   "metadata": {},
   "outputs": [],
   "source": []
  },
  {
   "cell_type": "markdown",
   "id": "5fe458d2",
   "metadata": {},
   "source": [
    "Utilizamos a instrução `break` para interromper a busca depois de encontrarmos o primeiro elemento em 1️⃣️. Em 2️⃣️ utilizamos o `else`, parecido com o da instrução `if`, para imprimir a mensadem informando que o elemento não foi encontrado. O `else` deve ser escrito na mesma coluna de `for` e só será executado se todos os elementos da lista forem visitados, ou seja, se não utilizarmos a instrução `break` deixando `for` terminar normalmente.\n",
    "\n",
    "📝️ ***Nota***: *a instrução* `while` *também possui uma cláusula opcional* `else` *que funciona da mesma forma que o* `else` *do* `for`.*"
   ]
  },
  {
   "cell_type": "markdown",
   "id": "bac73f9f",
   "metadata": {},
   "source": [
    "## Range\n",
    "\n",
    "![Range!](https://media4.giphy.com/media/c0NwRD0Vi5Cta/100.webp?cid=ecf05e47gwa2wjkdej51rvg1oqs9ya23jdk1dnz64sn9lndg&ep=v1_gifs_related&rid=100.webp&ct=g)\n",
    "\n",
    "\n",
    "Podemos utilizar a função `range` para gerar lista simples. A função `range` para gerar listas simples. A função `range` não retorna uma lista propriamente dita, mas um gerador ou *generator*. Por enquanto basta entender como podemos usá-la. Imagine um programa simples que imprime de 0 a 9 na tela:\n",
    "\n",
    "```python\n",
    "for v in range(10):\n",
    "    print(v)\n",
    "```\n",
    "Digite `Ctrl+Enter` ou $\\blacktriangleright$ **Run**"
   ]
  },
  {
   "cell_type": "code",
   "execution_count": null,
   "id": "5470bcf9",
   "metadata": {},
   "outputs": [],
   "source": []
  },
  {
   "cell_type": "markdown",
   "id": "5cd7190c",
   "metadata": {},
   "source": [
    "A função `range` gerou números de 0 a 9 porque passamos 10 como parâmetro. Ela normalmente gera valores a partir de 0, logo, ao especificarmos apenas 10, estamos apenas informando onde parar.\n",
    "\n",
    "Com a mesma função `range`, podemos também indicar qual é o primeiro número a gerar. Para isso, utilizaremos dois parâmetros:\n",
    "\n",
    "```python\n",
    "for v in range(5,8):\n",
    "    print(v)\n",
    "```\n",
    "Digite `Ctrl+Enter` ou $\\blacktriangleright$ **Run**"
   ]
  },
  {
   "cell_type": "code",
   "execution_count": null,
   "id": "11541d8e",
   "metadata": {},
   "outputs": [],
   "source": []
  },
  {
   "cell_type": "markdown",
   "id": "08977552",
   "metadata": {},
   "source": [
    "Usando 5 como início e 8 como fim, vamos imprimir os números 5, 6, 7. A notação aqui para o fim é a mesma utilizada com fatias, ou seja, o fim é um intervalo aberto ( notação matemática $\\pmb{[5 , 8[}$ ), isto é, não incluso na faixa de valores.\n",
    "\n",
    "Se acrescentarmos um terceiro parâmetro a função `range`, teremos como saltar entre valores gerados. Vejamos um exemplo em que geramos os 10 primeiros múltiplos de 3:\n",
    "\n",
    "```python\n",
    "for t in range(3, 33, 3):\n",
    "    print(t)\n",
    "```\n",
    "Digite `Ctrl+Enter` ou $\\blacktriangleright$ **Run**"
   ]
  },
  {
   "cell_type": "code",
   "execution_count": null,
   "id": "3ef062e8",
   "metadata": {},
   "outputs": [],
   "source": []
  },
  {
   "cell_type": "markdown",
   "id": "aeafbd14",
   "metadata": {},
   "source": [
    "![Observe](https://external-content.duckduckgo.com/iu/?u=http%3A%2F%2Fimages.clipartpanda.com%2Fobserver-clipart-k2443308.jpg&f=1&nofb=1&ipt=3fab94b483a5e75519e17185e0129c5b6a872f59053d85aa9fde93adf412e362&ipo=images)\n",
    "\n",
    "Observe que um gerador como o retornado pela função `range` não e exatamente uma lista. Embora seja usado de forma parecida, é na realidade, um objeto de outro tipo. Para transformar um gerador em lista, utilize a função `list`:\n",
    "\n",
    "```python\n",
    "# Transformação de range para lista\n",
    "L = list(range(100,110,50))\n",
    "print(L)\n",
    "```\n",
    "Digite `Ctrl+Enter` ou $\\blacktriangleright$ **Run**"
   ]
  },
  {
   "cell_type": "code",
   "execution_count": null,
   "id": "a390c947",
   "metadata": {},
   "outputs": [],
   "source": []
  },
  {
   "cell_type": "markdown",
   "id": "d80e92b5",
   "metadata": {},
   "source": [
    "## Enumerate\n",
    "Com a função `enumerate` podemos ampliar as funcionalidades de `for` facilmente.\n",
    "\n",
    "Vejamos como imprimir uma lista, em que teremos o índice entre colchetes e o valor à sua direita:\n",
    "\n",
    "```python\n",
    "L = [5,8,9,13]\n",
    "x = 0\n",
    "for e in L:\n",
    "    print(f\"[{x}] {e}\")\n",
    "    x += 1\n",
    "```\n",
    "Digite `Ctrl+Enter` ou $\\blacktriangleright$ **Run**"
   ]
  },
  {
   "cell_type": "code",
   "execution_count": null,
   "id": "1ab17812",
   "metadata": {},
   "outputs": [],
   "source": []
  },
  {
   "cell_type": "markdown",
   "id": "7f61b841",
   "metadata": {},
   "source": [
    "Veja o mesmo programa, mas utilizando a função `enumerate`:\n",
    "\n",
    "```python\n",
    "L = [5,9,13]\n",
    "for x , e in enumerate(L):\n",
    "    print(f\"[{x}] {e}\")\n",
    "```\n",
    "A função enumerate gera uma tupla em que o primeiro valor é o índice e o segundo é o elemento da lista sendo enumerada.\n",
    "\n",
    "Digite `Ctrl+Enter` ou $\\blacktriangleright$ **Run**\n"
   ]
  },
  {
   "cell_type": "code",
   "execution_count": null,
   "id": "0053c030",
   "metadata": {},
   "outputs": [],
   "source": []
  },
  {
   "cell_type": "markdown",
   "id": "6ba26687",
   "metadata": {},
   "source": [
    "## Operações com listas\n",
    "\n",
    "![](https://media2.giphy.com/media/v1.Y2lkPTc5MGI3NjExMWw4MTdkOTk1MDF2OXBhYndxYmxmajRmMm9oZDFkY2VudDJwM292NCZlcD12MV9naWZzX3NlYXJjaCZjdD1n/TI2u0IZsJhQebPdEVo/200.webp)\n",
    "\n",
    "Podemos percorrer uma lista de forma a verificar o menor e o maior valor:\n",
    "```python\n",
    "Programa: Verificação do maior valor\n",
    "L = [1,7,2,4]\n",
    "máximo = L[0] # 1️⃣️\n",
    "for e in L:\n",
    "    if e > máximo:\n",
    "        máximo = e\n",
    "print(máximo)\n",
    "```\n",
    "Em 1️⃣️, utilizamos um pequeno truque, inicializando o máximo com valor do primeiro elemento. Precisamos de um valor para máximo antes de utilizá-lo na comparação com `if`. Se usássemos 0, não teríamos problema, desde que nossa lista não tenha valores negativos.\n",
    "\n",
    "Digite `Ctrl+Enter` ou $\\blacktriangleright$ **Run**"
   ]
  },
  {
   "cell_type": "code",
   "execution_count": null,
   "id": "bad7e8a0",
   "metadata": {},
   "outputs": [],
   "source": []
  },
  {
   "cell_type": "markdown",
   "id": "698eba2b",
   "metadata": {},
   "source": [
    "Exercício 1 - Altere o *Programa: Verificação do maior valor* de forma a imprimir o menor elemento da lista.\n",
    "\n",
    "Digite `Ctrl+Enter` ou $\\blacktriangleright$ **Run**"
   ]
  },
  {
   "cell_type": "code",
   "execution_count": null,
   "id": "1fc83408",
   "metadata": {},
   "outputs": [],
   "source": []
  },
  {
   "cell_type": "markdown",
   "id": "616b0dfe",
   "metadata": {},
   "source": [
    "Exercício 2 - A lista de temperaturas de Mons, na Bélgica, foi armazenada na lista `T = [-10,-8,0,1,2,5,-2,-4]`. Faça um programa que imprima a menor temperatura, assim como a temperatura média.\n",
    "\n",
    "Digite `Ctrl+Enter` ou $\\blacktriangleright$ **Run**"
   ]
  },
  {
   "cell_type": "code",
   "execution_count": null,
   "id": "5124735b",
   "metadata": {},
   "outputs": [],
   "source": []
  },
  {
   "cell_type": "markdown",
   "id": "7d50285e",
   "metadata": {},
   "source": [
    "## Aplicações 🚨️ :\n",
    "![](https://media3.giphy.com/media/hHxTQkcjmHUTC/giphy.webp?cid=ecf05e47bne9w1h4ohog7pn064259ippojivbdenbsrn9pwo&ep=v1_gifs_related&rid=giphy.webp&ct=g)\n",
    "\n",
    "Vejamos uma situação na qual temos de selecionar os elementos de uma lista de forma a copiá-la para outras duas listas. Para simplificar o problema, imagine que os valores estejam inicialmente na lista `valores` , mas que devem ser copiados para lista `pares`, se forem pares; ou para a lista `ímpares`, se forem ímpares. Veja o programa que resolve esse problema:\n",
    "\n",
    "```python\n",
    "#Programa - Cópia de elementos para outras listas\n",
    "valores = [9,8,7,12,0,13,21]\n",
    "pares = []\n",
    "ímpares = []\n",
    "for e in valores:\n",
    "    if e % 2 == 0:\n",
    "        pares.append(e)\n",
    "    else:\n",
    "        ímpares.append(e)\n",
    "print(f\"Pares: {pares}\")\n",
    "print(f\"Ímpares: {ímpares}\")\n",
    "```\n",
    "\n",
    "Digite `Ctrl+Enter` ou $\\blacktriangleright$ **Run**"
   ]
  },
  {
   "cell_type": "code",
   "execution_count": null,
   "id": "0e7ee0d2",
   "metadata": {},
   "outputs": [],
   "source": []
  },
  {
   "cell_type": "markdown",
   "id": "9b17b5d0",
   "metadata": {},
   "source": [
    "Vejamos agora um programa que controla a utilização das salas de um cinema. Imagine que a lista `lugares_vagos = [10,2,1,3,0]` contenha o número de lugares vagos  nas 1, 2, 4 e 5, respectivamente. Esse programa lerá o número da sala e a quantidade de lugares solicitados. Ele deve informar se é possível vender o número de lugares solicitados, ou seja, se ainda há lugares livres. Caso seja possível vender os bilhetes, atualizará o número de lugares livres. A saída ocorre quando se digita 0 no número da sala.\n",
    "\n",
    "```python\n",
    "# Programa - Controle da atualização de salas de um cinema\n",
    "lugares_vagos = [10, 2, 1, 3, 0]\n",
    "while True:\n",
    "    sala = int(input(\"Sala (0 sai): \"))\n",
    "    if sala == 0:\n",
    "        print(\"Fim !\")\n",
    "        break\n",
    "    if sala > len(lugares_vagos) or sala < 1:\n",
    "        print(\"Sala inválida\")\n",
    "    elif lugares_vagos[sala-1] == 0:\n",
    "        print(\"Desculpe, sala lotada !\")\n",
    "    else:\n",
    "        lugares = int(input(f\"Quantos lugares você deseja ({lugares_vagos[sala-1]} vagos): \"))\n",
    "    if lugares > lugares_vagos[sala - 1]:\n",
    "        print(\"Número inválido\")\n",
    "    else:\n",
    "        lugares_vagos[sala - 1] -= lugares\n",
    "        print(f\"{lugares} lugares vendidos\")\n",
    "print(\"Utilização das salas\")\n",
    "for sala, vagos in enumerate(lugares_vagos):\n",
    "    print(f\"Sala{sala + 1} - {vagos} lugares(es) vazios(s)\")\n",
    "```\n",
    "Digite `Ctrl+Enter` ou $\\blacktriangleright$ **Run**"
   ]
  },
  {
   "cell_type": "code",
   "execution_count": null,
   "id": "1fa898c3",
   "metadata": {},
   "outputs": [],
   "source": []
  },
  {
   "cell_type": "markdown",
   "id": "5c4768e3",
   "metadata": {},
   "source": [
    "## Lista com Strings / Lista dentro de listas.\n",
    "\n",
    "![](https://media1.giphy.com/media/3oEduEIoSNmJXWQTWU/giphy.webp?cid=ecf05e477vsb06xnykmcfie3f6bawi54k23zgufc2ajde6hj&ep=v1_gifs_search&rid=giphy.webp&ct=g)\n",
    "\n",
    "Vejamos agora outro exemplo de listas, mas utilizando strings. Nese caso, `S` é uma lista, e cada elemento, uma string:\n",
    "\n",
    "```python\n",
    "S = [\"maçãs\", \"peras\", \"kiwis\"]\n",
    "print(f\"Tamanho da lista: {len(S)}\")\n",
    "print(f\"Selecionando o primeiro elemento da lista: {S[0]}\")\n",
    "print(f\"Selecionado o segundo elemento da lista: {S[1]}\")\n",
    "```"
   ]
  },
  {
   "cell_type": "code",
   "execution_count": null,
   "id": "26c1ef00",
   "metadata": {},
   "outputs": [],
   "source": []
  },
  {
   "cell_type": "markdown",
   "id": "b96fcec1",
   "metadata": {},
   "source": [
    "```python\n",
    "# Programa - Listas com elementos de tipos diferentes\n",
    "produto1 = [\"maçã\", 10, 0.30]\n",
    "print(f\"Produto 1: {produto1}\")\n",
    "produto2 = [\"pera\", 5, 0.75]\n",
    "print(f\"Produto 2: {produto2}\")\n",
    "produto3 = [\"kiwi\", 4, 0.98]\n",
    "print(f\"Produto 3: {produto3}\")\n",
    "```\n",
    "\n",
    "Assim , `produto1`, `produto2` e `produto 3` seriam três listas com três elementos cada uma. Observe que o primeiro elemento é do tipo `string` cadeia de caracteres; o segundo, do tipo inteiro `int`; e o terceiro, do tipo ponto flutuante `float`!"
   ]
  },
  {
   "cell_type": "code",
   "execution_count": null,
   "id": "c154e860",
   "metadata": {},
   "outputs": [],
   "source": []
  },
  {
   "cell_type": "markdown",
   "id": "99d5a2dd",
   "metadata": {},
   "source": [
    "### Listas dentro de listas\n",
    " Um fator interessante é que podemos acessar as strings dentro da lista, letra por letra, usando em segundo índice:\n",
    "\n",
    "```python\n",
    "S = [\"maçãs\", \"peras\", \"kiwis\"]\n",
    "print(S[0][0])\n",
    "print(S[0][1])\n",
    "print(S[1][1])\n",
    "print(S[2][2])\n",
    "```\n",
    "Digite `Ctrl+Enter` ou $\\blacktriangleright$ **Run**"
   ]
  },
  {
   "cell_type": "markdown",
   "id": "966fc5ce",
   "metadata": {},
   "source": [
    "## Ordenação:\n",
    "\n",
    "![](https://media4.giphy.com/media/SLBr5yLzocSYw/100.webp?cid=ecf05e47x1a40tssxbtqqelnv3g6fs6wt5v4kvhdgohay320&ep=v1_gifs_related&rid=100.webp&ct=g)\n",
    "\n",
    "![](http://localhost:8888/kernelspecs/python3/logo-64x64.png)\n",
    "\n",
    "***Python  possui o método sort que ordena rapidamente uma lista***\n",
    "\n",
    "```python\n",
    "L = [6,4,2,1,9] # Lista a ser ordenada\n",
    "print(f\"Lista a ser ordenada: {L}\")\n",
    "L.sort()\n",
    "print(f\"Lista ordenada pelo método sort: {L}\")\n",
    "```\n",
    "Digite `Ctrl+Enter` ou $\\blacktriangleright$ **Run**"
   ]
  },
  {
   "cell_type": "code",
   "execution_count": null,
   "id": "71e0c9fa",
   "metadata": {},
   "outputs": [],
   "source": [
    "\n"
   ]
  },
  {
   "cell_type": "markdown",
   "id": "f13edc4b",
   "metadata": {},
   "source": [
    "Se você deseja ordenar uma lista, *sem alterar seus elementos*, utilize a função ``sorted``, que retorna uma nova lista ordenada:\n",
    "\n",
    "```python\n",
    "Z = [4,3,1]\n",
    "print (f\"Lista Z = {Z}\")\n",
    "print(f\"Lista ordenada pelo método sorted Z = {sorted(Z)}\")\n",
    "print (f\"Lista Z = {Z}\")\n",
    "```"
   ]
  },
  {
   "cell_type": "code",
   "execution_count": null,
   "id": "ac686e5f",
   "metadata": {},
   "outputs": [],
   "source": []
  }
 ],
 "metadata": {
  "kernelspec": {
   "display_name": "Python 3 (ipykernel)",
   "language": "python",
   "name": "python3"
  },
  "language_info": {
   "codemirror_mode": {
    "name": "ipython",
    "version": 3
   },
   "file_extension": ".py",
   "mimetype": "text/x-python",
   "name": "python",
   "nbconvert_exporter": "python",
   "pygments_lexer": "ipython3",
   "version": "3.11.6"
  }
 },
 "nbformat": 4,
 "nbformat_minor": 5
}
