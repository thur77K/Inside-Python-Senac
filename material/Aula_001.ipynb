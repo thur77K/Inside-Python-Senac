{
 "cells": [
  {
   "cell_type": "markdown",
   "id": "70bba280",
   "metadata": {},
   "source": [
    "## Primeiros programas:\n",
    "\n",
    "O interpretador python pode ser utilizado como calculadora. Experimente digitar $2+3$ no interpretador, como mostrado a seguir:\n",
    "\n",
    "```python\n",
    "2+3\n",
    "```\n",
    "\n",
    "***Observação: codifique na célula abaixo; entenda as linhas do programa e tire suas dúvidas se houver.***\n",
    "\n",
    " Digite `Ctrl+Enter` ou $\\blacktriangleright$ **Run**"
   ]
  },
  {
   "cell_type": "code",
   "execution_count": null,
   "id": "586aa431",
   "metadata": {},
   "outputs": [],
   "source": []
  },
  {
   "cell_type": "markdown",
   "id": "17514932",
   "metadata": {},
   "source": [
    "Podemos também subtrair valores, como mostrado a seguir:\n",
    "\n",
    "```python\n",
    "5-3\n",
    "```\n",
    "\n",
    "***Observação: codifique na célula abaixo; entenda as linhas do programa e tire suas dúvidas se houver.***\n",
    "\n",
    " Digite `Ctrl+Enter` ou $\\blacktriangleright$ **Run**"
   ]
  },
  {
   "cell_type": "code",
   "execution_count": null,
   "id": "c6d9c0a9",
   "metadata": {},
   "outputs": [],
   "source": []
  },
  {
   "cell_type": "markdown",
   "id": "48b124a5",
   "metadata": {},
   "source": [
    "Podemos combinar adição e subtração na mesma linha:\n",
    "\n",
    "```python\n",
    "10-4+2\n",
    "```\n",
    "***Observação: codifique na célula abaixo; entenda as linhas do programa e tire suas dúvidas se houver.***\n",
    "\n",
    " Digite `Ctrl+Enter` ou $\\blacktriangleright$ **Run**"
   ]
  },
  {
   "cell_type": "code",
   "execution_count": null,
   "id": "7b119ab8",
   "metadata": {},
   "outputs": [],
   "source": []
  },
  {
   "cell_type": "markdown",
   "id": "9ce5d487",
   "metadata": {},
   "source": [
    "A multiplicação é reprsentada por asterisco (\\*); e a divisão, pela barra (/):\n",
    " ```python\n",
    "2*10\n",
    "```\n",
    "\n",
    "***Observação: codifique na célula abaixo; entenda as linhas do programa e tire suas dúvidas se houver.***\n",
    "\n",
    " Digite `Ctrl+Enter` ou $\\blacktriangleright$ **Run**"
   ]
  },
  {
   "cell_type": "code",
   "execution_count": null,
   "id": "ffcc1a8f",
   "metadata": {},
   "outputs": [],
   "source": []
  },
  {
   "cell_type": "markdown",
   "id": "bfbe7b6f",
   "metadata": {},
   "source": [
    "```python\n",
    "2*10\n",
    "```\n",
    "\n",
    "***Observação: codifique na célula abaixo; entenda as linhas do programa e tire suas dúvidas se houver.***\n",
    "\n",
    " Digite `Ctrl+Enter` ou $\\blacktriangleright$ **Run**"
   ]
  },
  {
   "cell_type": "code",
   "execution_count": null,
   "id": "7f5719da",
   "metadata": {},
   "outputs": [],
   "source": []
  },
  {
   "cell_type": "markdown",
   "id": "4cc080af",
   "metadata": {},
   "source": [
    "A divisão nem sempre produz resultados inteiros. Por exemplo:\n",
    "```python\n",
    "10/4\n",
    "\n",
    "```\n",
    "***Observação: codifique na célula abaixo; entenda as linhas do programa e tire suas dúvidas se houver.***\n",
    "\n",
    " Digite `Ctrl+Enter` ou $\\blacktriangleright$ **Run**"
   ]
  },
  {
   "cell_type": "code",
   "execution_count": null,
   "id": "cd42ddd0",
   "metadata": {},
   "outputs": [],
   "source": []
  },
  {
   "cell_type": "markdown",
   "id": "5e206632",
   "metadata": {},
   "source": [
    "Se você deseja calcular a divisão inteira, ou seja, com resto, utilize duas barras em Python:\n",
    "    \n",
    "```python\n",
    "10//4\n",
    "```\n",
    "***Observação: codifique na célula abaixo; entenda as linhas do programa e tire suas dúvidas se houver.***\n",
    "\n",
    " Digite `Ctrl+Enter` ou $\\blacktriangleright$ **Run**"
   ]
  },
  {
   "cell_type": "code",
   "execution_count": null,
   "id": "81b1f843",
   "metadata": {},
   "outputs": [],
   "source": []
  },
  {
   "cell_type": "markdown",
   "id": "6186a098",
   "metadata": {},
   "source": [
    "Podemos obter o resto da divisão de dois números usando o símbolo %.\n",
    "Assim, para calcularmos o resto da divisão entre $10$ e $3$, digitamos\n",
    "\n",
    "```python\n",
    "10 % 3\n",
    "```\n",
    "***Observação: codifique na célula abaixo; entenda as linhas do programa e tire suas dúvidas se houver.***\n",
    "\n",
    " Digite `Ctrl+Enter` ou $\\blacktriangleright$ **Run**"
   ]
  },
  {
   "cell_type": "code",
   "execution_count": null,
   "id": "844f5104",
   "metadata": {},
   "outputs": [],
   "source": []
  },
  {
   "cell_type": "markdown",
   "id": "8b40baa3",
   "metadata": {},
   "source": [
    "Tabela 1.1 - Operadores e operações matemáticas\n",
    "\n",
    "|**Operador**|**Operação**                         |\n",
    "| :----:      |:---                                |\n",
    "| +           | Adição                             |\n",
    "| -           | Subtração                          |\n",
    "| \\*          | Multiplicação                      |\n",
    "| /           | Divisão (com resultado fracioário) |\n",
    "| //          | Divisão (com resultados inteiros)  |\n",
    "| %           | Módulo ou resto                    |\n",
    "| \\*\\*        | Exponeciação ou potenciação        |"
   ]
  },
  {
   "cell_type": "markdown",
   "id": "212b9f04",
   "metadata": {},
   "source": [
    "Os parênteses são utilizados em Python da mesma forma que em expressões\n",
    "matemáticas, ou seja, para alterar a ordem de execução de uma operação.\n",
    "Para relembrar a ordem de precedência das operações, temos as seguintes\n",
    "prioridades:\n",
    "\n",
    "1. Exponenciação ou potenciação e suas inversas (\\*\\*)\n",
    "2. Multiplicação (\\*), divisão (/ e //) e módulo (%).\n",
    "3. Adição (+) ou subtração (-).\n",
    "\n",
    "A expressão:\n",
    "\n",
    "```pyhton\n",
    "1500 + (1500*5 / 100)\n",
    "```\n",
    "é equivalente a:\n",
    "$$ 1500 + \\left(\\frac{1500 \\times 5}{100} \\right) $$\n",
    "\n",
    "Não se esqueça de que, tanto em Python como na Matemática, as operações de\n",
    "mesma prioridade são realizadas da esquerda para a direita. Utilize parênteses\n",
    "sempre que precisar alterar a ordem de execução das operações e também para\n",
    "aumentar a clareza da fórmula."
   ]
  },
  {
   "cell_type": "markdown",
   "id": "e113d225",
   "metadata": {},
   "source": [
    "### Exercício 1.1\n",
    "\n",
    "Converta as seguintes expressões matemáticas para que possam ser\n",
    "calculadas usando o interpretador Python:\n",
    "\n",
    "$\\displaystyle 10+20 \\times 30$\n",
    "\n",
    "$\\displaystyle 4^2 \\div 30$\n",
    "\n",
    "$\\displaystyle (9^4 + 2 ) \\times 6 - 1$\n",
    "\n",
    "***Observação: codifique na célula abaixo; entenda as linhas do programa e tire suas dúvidas se houver.***\n",
    "\n",
    " Digite `Ctrl+Enter` ou $\\blacktriangleright$ **Run**"
   ]
  },
  {
   "cell_type": "code",
   "execution_count": null,
   "id": "428acc7f",
   "metadata": {},
   "outputs": [],
   "source": []
  },
  {
   "cell_type": "code",
   "execution_count": null,
   "id": "81184bf3",
   "metadata": {},
   "outputs": [],
   "source": []
  },
  {
   "cell_type": "code",
   "execution_count": null,
   "id": "5074cc51",
   "metadata": {},
   "outputs": [],
   "source": []
  },
  {
   "cell_type": "markdown",
   "id": "0f0b90cc",
   "metadata": {},
   "source": [
    "## Conceitos de variáveis e atribuição\n",
    "\n",
    "Em programação váriaveis são utilizadas para armazenar valores e para dar\n",
    "nome a uma área de memória do computador onde armazenamos dados.\n",
    "Por enquanto, podemos imaginar a memória do computador como uma grande\n",
    "estante, em que cada compartimento tem um nome. Para armazenar algo nesses\n",
    "compartimentos, usaremos o símbolo de igualdade (=) entre o nome do compartimento \n",
    "e o valor que queremos guardar.\n",
    "\n",
    "A função **print** realiza a impressão na tela."
   ]
  },
  {
   "cell_type": "markdown",
   "id": "cd362d75",
   "metadata": {},
   "source": [
    "####  1.1 Primeiro programa com variáveis:\n",
    "\n",
    "```python\n",
    "a = 2\n",
    "b = 3\n",
    "print(a + b)\n",
    "```\n",
    "***Observação: codifique na célula abaixo; entenda as linhas do programa e tire suas dúvidas se houver.***\n",
    "\n",
    " Digite `Ctrl+Enter` ou $\\blacktriangleright$ **Run**"
   ]
  },
  {
   "cell_type": "code",
   "execution_count": null,
   "id": "637dcc10",
   "metadata": {},
   "outputs": [],
   "source": []
  },
  {
   "cell_type": "markdown",
   "id": "3d8372fc",
   "metadata": {},
   "source": [
    "#### 1.2  Programa - Cálculo de aumento de salário\n",
    "\n",
    "```python\n",
    "salário = 1500\n",
    "aumento = 5\n",
    "print(salário + (salário * aumento /100))\n",
    "```\n",
    "***Observação: codifique na célula abaixo; entenda as linhas do programa e tire suas dúvidas se houver.***\n",
    "\n",
    " Digite `Ctrl+Enter` ou $\\blacktriangleright$ **Run**"
   ]
  },
  {
   "cell_type": "code",
   "execution_count": null,
   "id": "97d8f1f5",
   "metadata": {},
   "outputs": [],
   "source": []
  },
  {
   "cell_type": "markdown",
   "id": "ef2d6f0e",
   "metadata": {},
   "source": [
    "#### Exercício 1.2 \n",
    "\n",
    "Faça um programa que exiba seu nome na tela.\n",
    "\n",
    "***Observação: codifique na célula abaixo; entenda as linhas do programa e tire suas dúvidas se houver.***\n",
    "\n",
    " Digite `Ctrl+Enter` ou $\\blacktriangleright$ **Run**"
   ]
  },
  {
   "cell_type": "code",
   "execution_count": null,
   "id": "cd52ec12",
   "metadata": {},
   "outputs": [],
   "source": []
  },
  {
   "cell_type": "markdown",
   "id": "90cad85b",
   "metadata": {},
   "source": [
    "#### Exercício 1.3 \n",
    "Escreva um programa que exiba o resultado de $\\displaystyle 2a \\times 3b$,\n",
    "em que $a$ vale 3 e b vale 5.\n",
    "\n",
    "***Observação: codifique na célula abaixo; entenda as linhas do programa e tire suas dúvidas se houver.***\n",
    "\n",
    " Digite `Ctrl+Enter` ou $\\blacktriangleright$ **Run**"
   ]
  },
  {
   "cell_type": "code",
   "execution_count": null,
   "id": "4ab45877",
   "metadata": {},
   "outputs": [],
   "source": []
  },
  {
   "cell_type": "markdown",
   "id": "62d9a95c",
   "metadata": {},
   "source": [
    "####  Exercício 1.4\n",
    "\n",
    "Escreva um programa que calcule a soma de três variáveis e imprima o resultado na tela.\n",
    "\n",
    "***Observação: codifique na célula abaixo; entenda as linhas do programa e tire suas dúvidas se houver.***\n",
    "\n",
    " Digite `Ctrl+Enter` ou $\\blacktriangleright$ **Run**"
   ]
  },
  {
   "cell_type": "code",
   "execution_count": null,
   "id": "6afa6d75",
   "metadata": {},
   "outputs": [],
   "source": []
  },
  {
   "cell_type": "markdown",
   "id": "b510cc3f",
   "metadata": {},
   "source": [
    "#### Exercício 1.5\n",
    "\n",
    "Modifique o programa ***Cálculo de aumento de salário***, de forma que ele calcule\n",
    "um aumento de $15\\%$ para um salário de $R\\$ 750,00$.\n",
    "\n",
    "***Observação: codifique na célula abaixo; entenda as linhas do programa e tire suas dúvidas se houver.***\n",
    "\n",
    " Digite `Ctrl+Enter` ou $\\blacktriangleright$ **Run**\n"
   ]
  },
  {
   "cell_type": "code",
   "execution_count": null,
   "id": "bcc07a5c",
   "metadata": {},
   "outputs": [],
   "source": []
  }
 ],
 "metadata": {
  "kernelspec": {
   "display_name": "Python 3 (ipykernel)",
   "language": "python",
   "name": "python3"
  },
  "language_info": {
   "codemirror_mode": {
    "name": "ipython",
    "version": 3
   },
   "file_extension": ".py",
   "mimetype": "text/x-python",
   "name": "python",
   "nbconvert_exporter": "python",
   "pygments_lexer": "ipython3",
   "version": "3.11.4"
  }
 },
 "nbformat": 4,
 "nbformat_minor": 5
}
